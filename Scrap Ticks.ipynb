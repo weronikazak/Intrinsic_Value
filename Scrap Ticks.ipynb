{
 "cells": [
  {
   "cell_type": "code",
   "execution_count": null,
   "metadata": {},
   "outputs": [],
   "source": [
    "import yfinance as yf"
   ]
  },
  {
   "cell_type": "code",
   "execution_count": 45,
   "metadata": {},
   "outputs": [],
   "source": [
    "def rep(name):\n",
    "    name = (name.lower().replace(\"corporation\", \"\")\n",
    "            .replace(\"inc\", \" \").replace(\"&\", \" \").replace(\".\", \" \")\n",
    "            .strip().replace(\" \", \"-\")\n",
    "            .replace(\"---\", \"-\").replace(\"--\", \"-\"))\n",
    "    return name"
   ]
  },
  {
   "cell_type": "code",
   "execution_count": 47,
   "metadata": {},
   "outputs": [
    {
     "data": {
      "text/plain": [
       "'azoty-tarnow'"
      ]
     },
     "execution_count": 47,
     "metadata": {},
     "output_type": "execute_result"
    }
   ],
   "source": [
    "msft = yf.Ticker(\"ATT\")\n",
    "name = rep(msft.info['shortName'])\n",
    "name"
   ]
  },
  {
   "cell_type": "code",
   "execution_count": 48,
   "metadata": {},
   "outputs": [],
   "source": [
    "import pandas as pd\n",
    "import numpy as np\n",
    "import os"
   ]
  },
  {
   "cell_type": "code",
   "execution_count": 56,
   "metadata": {},
   "outputs": [
    {
     "data": {
      "text/plain": [
       "<pandas.core.strings.StringMethods at 0x15fe4f74f48>"
      ]
     },
     "execution_count": 56,
     "metadata": {},
     "output_type": "execute_result"
    }
   ],
   "source": [
    " df[\"short name\"].str"
   ]
  },
  {
   "cell_type": "code",
   "execution_count": 63,
   "metadata": {},
   "outputs": [
    {
     "data": {
      "text/html": [
       "<div>\n",
       "<style scoped>\n",
       "    .dataframe tbody tr th:only-of-type {\n",
       "        vertical-align: middle;\n",
       "    }\n",
       "\n",
       "    .dataframe tbody tr th {\n",
       "        vertical-align: top;\n",
       "    }\n",
       "\n",
       "    .dataframe thead th {\n",
       "        text-align: right;\n",
       "    }\n",
       "</style>\n",
       "<table border=\"1\" class=\"dataframe\">\n",
       "  <thead>\n",
       "    <tr style=\"text-align: right;\">\n",
       "      <th></th>\n",
       "      <th>ticker</th>\n",
       "      <th>short name</th>\n",
       "    </tr>\n",
       "  </thead>\n",
       "  <tbody>\n",
       "    <tr>\n",
       "      <th>0</th>\n",
       "      <td>A</td>\n",
       "      <td>agilent</td>\n",
       "    </tr>\n",
       "    <tr>\n",
       "      <th>1</th>\n",
       "      <td>AA</td>\n",
       "      <td>alcoa</td>\n",
       "    </tr>\n",
       "    <tr>\n",
       "      <th>2</th>\n",
       "      <td>AABA</td>\n",
       "      <td>altaba</td>\n",
       "    </tr>\n",
       "    <tr>\n",
       "      <th>3</th>\n",
       "      <td>AAC</td>\n",
       "      <td>aac</td>\n",
       "    </tr>\n",
       "    <tr>\n",
       "      <th>4</th>\n",
       "      <td>AADR</td>\n",
       "      <td>advisorshares-dorsey-wright</td>\n",
       "    </tr>\n",
       "    <tr>\n",
       "      <th>...</th>\n",
       "      <td>...</td>\n",
       "      <td>...</td>\n",
       "    </tr>\n",
       "    <tr>\n",
       "      <th>6363</th>\n",
       "      <td>ZTS</td>\n",
       "      <td>zoetis</td>\n",
       "    </tr>\n",
       "    <tr>\n",
       "      <th>6364</th>\n",
       "      <td>ZUMZ</td>\n",
       "      <td>zumiez</td>\n",
       "    </tr>\n",
       "    <tr>\n",
       "      <th>6365</th>\n",
       "      <td>ZUO</td>\n",
       "      <td>zuora</td>\n",
       "    </tr>\n",
       "    <tr>\n",
       "      <th>6366</th>\n",
       "      <td>ZYME</td>\n",
       "      <td>zymeworks</td>\n",
       "    </tr>\n",
       "    <tr>\n",
       "      <th>6367</th>\n",
       "      <td>ZYNE</td>\n",
       "      <td>zynerba-pharmaceuticals</td>\n",
       "    </tr>\n",
       "  </tbody>\n",
       "</table>\n",
       "<p>6368 rows × 2 columns</p>\n",
       "</div>"
      ],
      "text/plain": [
       "     ticker                   short name\n",
       "0         A                      agilent\n",
       "1        AA                        alcoa\n",
       "2      AABA                       altaba\n",
       "3       AAC                          aac\n",
       "4      AADR  advisorshares-dorsey-wright\n",
       "...     ...                          ...\n",
       "6363    ZTS                       zoetis\n",
       "6364   ZUMZ                       zumiez\n",
       "6365    ZUO                        zuora\n",
       "6366   ZYME                    zymeworks\n",
       "6367   ZYNE      zynerba-pharmaceuticals\n",
       "\n",
       "[6368 rows x 2 columns]"
      ]
     },
     "execution_count": 63,
     "metadata": {},
     "output_type": "execute_result"
    }
   ],
   "source": [
    "df = pd.read_csv(\"companies.csv\")\n",
    "df = df[[\"ticker\", \"short name\"]]\n",
    "df[\"short name\"] = df[\"short name\"].str.replace('.','-').str.replace('&','-').str.replace(',','-').str.replace(' ','-').str.replace('---','-').str.replace('--','-')\n",
    "df[\"short name\"] = df[\"short name\"].str.lower()\n",
    "df"
   ]
  },
  {
   "cell_type": "code",
   "execution_count": 64,
   "metadata": {},
   "outputs": [],
   "source": [
    "df.to_csv(\"companies.csv\", index=False)"
   ]
  },
  {
   "cell_type": "code",
   "execution_count": 1,
   "metadata": {},
   "outputs": [],
   "source": [
    "import requests\n",
    "from bs4 import BeautifulSoup\n",
    "\n",
    "URL = \"https://www.macrotrends.net/stocks/research\"\n",
    "page = requests.get(URL)\n",
    "soup = BeautifulSoup(page.content, \"html.parser\")"
   ]
  },
  {
   "cell_type": "code",
   "execution_count": null,
   "metadata": {},
   "outputs": [],
   "source": [
    "base_url = \"https://www.macrotrends.net\""
   ]
  },
  {
   "cell_type": "code",
   "execution_count": 10,
   "metadata": {},
   "outputs": [
    {
     "name": "stdout",
     "output_type": "stream",
     "text": [
      "/stocks/industry/225/large-cap-pharmaceutical\n",
      "/stocks/industry/89/property,-casualty-and-title-insurance\n",
      "/stocks/industry/12/banks---foreign\n",
      "/stocks/industry/204/banks---major-regional\n",
      "/stocks/industry/132/oil-gas---international-integrated\n",
      "/stocks/industry/193/utility---electric-power-distribution\n",
      "/stocks/industry/282/financial-transaction-services\n",
      "/stocks/industry/66/finance---publicly-traded-investment-trusts\n",
      "/stocks/industry/266/reit---other-equity-trusts\n",
      "/stocks/industry/108/medical---health-maintenance-organizations\n",
      "/stocks/industry/104/medical-products-manufacturing\n",
      "/stocks/industry/174/soap-and-cleaning-preparations\n",
      "/stocks/industry/128/oil-refining-marketing\n",
      "/stocks/industry/25/building-products---retail-wholesale\n",
      "/stocks/industry/214/internet-software\n",
      "/stocks/industry/19/alcoholic-beverages\n",
      "/stocks/industry/44/computer-software\n",
      "/stocks/industry/62/finance---investment-banks\n",
      "/stocks/industry/2/aerospace-and-defense-general\n",
      "/stocks/industry/283/technology-services\n",
      "/stocks/industry/20/beverages---soft-drinks\n",
      "/stocks/industry/48/diversified-operations\n",
      "/stocks/industry/167/retail---supermarket-chains\n",
      "/stocks/industry/69/finance---miscellaneous-services\n",
      "/stocks/industry/136/oil-gas---us-exploration-and-production\n",
      "/stocks/industry/238/wireless---national-providers\n",
      "/stocks/industry/183/tobacco-products\n",
      "/stocks/industry/103/medical-instruments-manufacturing\n",
      "/stocks/industry/88/multi-line-insurance-providers\n",
      "/stocks/industry/189/transportation---rail\n",
      "/stocks/industry/218/information-technology-services\n",
      "/stocks/industry/116/mining---miscellaneous\n",
      "/stocks/industry/8/auto-manufacturers---foreign\n",
      "/stocks/industry/160/retail---food-restaurants\n",
      "/stocks/industry/34/chemicals---diversified\n",
      "/stocks/industry/72/food-items---confectionery\n",
      "/stocks/industry/211/internet-commerce\n",
      "/stocks/industry/63/finance---investment-management\n",
      "/stocks/industry/137/oil-gas---us-integrated\n",
      "/stocks/industry/131/oil-gas----field-services\n",
      "/stocks/industry/135/oil-gas---production-and-pipelines\n",
      "/stocks/industry/3/aerospace-and-defense-equipment\n",
      "/stocks/industry/76/food-items---miscellaneous-diversified\n",
      "/stocks/industry/265/reit---residential-equity-trusts\n",
      "/stocks/industry/99/general-industrial-machinery\n",
      "/stocks/industry/223/emerging-markets-integrated\n",
      "/stocks/industry/113/medical-dental-supplies\n",
      "/stocks/industry/277/consulting-services\n",
      "/stocks/industry/208/media-conglomerates\n",
      "/stocks/industry/186/transportation---air-freight\n",
      "/stocks/industry/173/shoes-related-apparel\n",
      "/stocks/industry/158/retail---discount-variety\n",
      "/stocks/industry/105/medical---biomedical-and-genetics\n",
      "/stocks/industry/97/electrical-machinery\n",
      "/stocks/industry/86/insurance-brokers\n",
      "/stocks/industry/232/diversified-communication-services\n",
      "/stocks/industry/206/business-information-services\n",
      "/stocks/industry/287/waste-removal-services\n",
      "/stocks/industry/264/reit---retail-equity-trusts\n",
      "/stocks/industry/21/building-construction-products---misc\n",
      "/stocks/industry/153/real-estate-operations\n",
      "/stocks/industry/106/medical---drug-manufacturing\n",
      "/stocks/industry/203/computers---integrated-systems\n",
      "/stocks/industry/221/oil-gas---production-and-pipelines-mlp\n",
      "/stocks/industry/87/life-insurance-providers\n",
      "/stocks/industry/273/other-alternate-energy\n",
      "/stocks/industry/240/wireless---non-us-providers\n",
      "/stocks/industry/7/auto-manufacturers---domestic\n",
      "/stocks/industry/213/internet-services\n",
      "/stocks/industry/59/fertilizer-manufacturers\n",
      "/stocks/industry/159/retail---drug-stores\n",
      "/stocks/industry/207/consumer-products---misc-discretionary\n",
      "/stocks/industry/37/chemicals---specialty\n",
      "/stocks/industry/114/gold-miners\n",
      "/stocks/industry/98/farm-machinery\n",
      "/stocks/industry/10/auto-truck-original-equipment-manufacturers\n",
      "/stocks/industry/31/building---residential-and-commercial\n",
      "/stocks/industry/95/construction-and-mining-machinery\n",
      "/stocks/industry/194/utility---natural-gas-distribution\n",
      "/stocks/industry/92/leisure-recreation-services\n",
      "/stocks/industry/117/mining---non-ferrous\n",
      "/stocks/industry/47/cosmetics-and-toiletries\n",
      "/stocks/industry/61/finance---consumer-loands\n",
      "/stocks/industry/216/business-software-services\n",
      "/stocks/industry/130/oil-gas---canadian-integrated\n",
      "/stocks/industry/129/oil-gas---canadian-exploration-production\n",
      "/stocks/industry/4/agricultural-operations\n",
      "/stocks/industry/285/medical-services\n",
      "/stocks/industry/176/steel-producers\n",
      "/stocks/industry/115/iron-miners\n",
      "/stocks/industry/229/wireless-equipment-manufacturers\n",
      "/stocks/industry/260/electrical-test-equipment\n",
      "/stocks/industry/81/hotels-motels\n",
      "/stocks/industry/139/paints-allied-products\n",
      "/stocks/industry/109/medical---hospitals\n",
      "/stocks/industry/187/transportation---airlines\n",
      "/stocks/industry/46/containers---paper-plastic\n",
      "/stocks/industry/200/gaming\n",
      "/stocks/industry/500/unclassified\n",
      "/stocks/industry/230/communication-components-manufacturers\n",
      "/stocks/industry/57/engineering---research-development-services\n",
      "/stocks/industry/146/protection---safety-equipment-services\n",
      "/stocks/industry/9/retail-wholesale-auto-parts\n",
      "/stocks/industry/26/building-products---wood\n",
      "/stocks/industry/84/scientific-instruments-manufacturing\n",
      "/stocks/industry/52/electrical-products---miscellaneous\n",
      "/stocks/industry/151/reit---mortgage-trusts\n",
      "/stocks/industry/50/miscelleneous-electrical-components\n",
      "/stocks/industry/212/internet-content\n",
      "/stocks/industry/27/building---cement,-concrete-and-aggregates\n",
      "/stocks/industry/180/textile---apparel-manufacturing\n",
      "/stocks/industry/111/medical---outpatient-home-care\n",
      "/stocks/industry/276/securities-exchanges\n",
      "/stocks/industry/75/food-items---meat-products\n",
      "/stocks/industry/196/utility---water-supply\n",
      "/stocks/industry/154/retail---apparel-shoes\n",
      "/stocks/industry/33/cable-tv-providers\n",
      "/stocks/industry/191/transportation---services\n",
      "/stocks/industry/85/insurance---accident-health\n",
      "/stocks/industry/16/banks---southeast\n",
      "/stocks/industry/18/banks---west\n",
      "/stocks/industry/53/electrical-connectors\n",
      "/stocks/industry/286/industrial-services\n",
      "/stocks/industry/188/transportation---equipment-leasing\n",
      "/stocks/industry/1/advertising-and-marketing-services\n",
      "/stocks/industry/199/computers---minicomputers\n",
      "/stocks/industry/91/leisure-recreation-products\n",
      "/stocks/industry/49/semiconductors\n",
      "/stocks/industry/190/transportation---shipping\n",
      "/stocks/industry/140/paper-paper-products\n",
      "/stocks/industry/241/semiconductor---general\n",
      "/stocks/industry/220/oil-refining-marketing-mlp\n",
      "/stocks/industry/45/containers---metal-glass\n",
      "/stocks/industry/22/building-products---air-conditioning-heating\n",
      "/stocks/industry/67/finance---savings-loans\n",
      "/stocks/industry/281/outsourcing-services\n",
      "/stocks/industry/210/retail-and-wholesale-auto-truck\n",
      "/stocks/industry/161/retail---home-furnishings\n",
      "/stocks/industry/17/banks---southwest\n",
      "/stocks/industry/156/retail---consumer-electronics\n",
      "/stocks/industry/58/internal-combustion-engines\n",
      "/stocks/industry/120/metal-production-distribution\n",
      "/stocks/industry/43/computer---services\n",
      "/stocks/industry/51/electrical-measuring-instruments\n",
      "/stocks/industry/82/industrial-automation-robotics\n",
      "/stocks/industry/275/agricultural-products\n",
      "/stocks/industry/11/auto-truck-replacement-parts\n",
      "/stocks/industry/107/medical---generic-drugs\n",
      "/stocks/industry/278/staffing-services\n",
      "/stocks/industry/184/tools---hand-held\n",
      "/stocks/industry/289/consumer-products---miscellaneous-staples\n",
      "/stocks/industry/68/finance---sbic-commercial\n",
      "/stocks/industry/165/retail---miscellaneous-diversified\n",
      "/stocks/industry/94/machine-tools-related-products\n",
      "/stocks/industry/217/internet-software-services\n",
      "/stocks/industry/15/banks---northeast\n",
      "/stocks/industry/29/building---maintenance-and-services\n",
      "/stocks/industry/172/schools\n",
      "/stocks/industry/219/internet-services---delivery\n",
      "/stocks/industry/134/oil-gas---drilling\n",
      "/stocks/industry/254/electrical-power\n",
      "/stocks/industry/36/chemicals---plastics\n",
      "/stocks/industry/166/retail---regional-department-stores\n",
      "/stocks/industry/65/finance---mortgages-and-related-services\n",
      "/stocks/industry/119/metal-processing-fabrication\n",
      "/stocks/industry/28/building---heavy-construction\n",
      "/stocks/industry/32/broadcasting---radio-tv\n",
      "/stocks/industry/125/office-supplies-and-forms\n",
      "/stocks/industry/284/government-services\n",
      "/stocks/industry/205/business-services\n",
      "/stocks/industry/215/medical-information-systems\n",
      "/stocks/industry/83/control-instruments-manufacturing\n",
      "/stocks/industry/54/electronics-parts-distribution\n",
      "/stocks/industry/78/funeral-services\n",
      "/stocks/industry/247/semiconductor---discretes\n",
      "/stocks/industry/202/computer-storage-devices\n",
      "/stocks/industry/152/real-estate-development\n",
      "/stocks/industry/5/household-appliances\n",
      "/stocks/industry/102/thermal-processing-machinery\n",
      "/stocks/industry/64/finance---leasing-companies\n",
      "/stocks/industry/38/coal-mining-and-production\n",
      "/stocks/industry/261/electrical-manufacturing-services-ems\n",
      "/stocks/industry/96/electrical-utility-machinery\n",
      "/stocks/industry/122/movie-tv-production-and-distribution\n",
      "/stocks/industry/118/silver-miners\n",
      "/stocks/industry/181/textile---home-furnishings\n",
      "/stocks/industry/30/building---mobile-home-rv-manufacturing\n",
      "/stocks/industry/197/wire-cable-products\n",
      "/stocks/industry/175/steel---pipe-tubes\n",
      "/stocks/industry/6/audio-video-home-production\n",
      "/stocks/industry/60/fiber-optic-manufacturers\n",
      "/stocks/industry/192/transportation---truck\n",
      "/stocks/industry/222/international-e-p\n",
      "/stocks/industry/70/food-items---wholesale\n",
      "/stocks/industry/143/pollution-control-equipment-services\n",
      "/stocks/industry/280/auction-valuation-services\n",
      "/stocks/industry/268/solar-equipment-and-services\n",
      "/stocks/industry/147/book-publishing\n",
      "/stocks/industry/24/building-products---lighting-fixtures\n",
      "/stocks/industry/79/furniture-manufacturing\n",
      "/stocks/industry/148/newspaper-publishing\n",
      "/stocks/industry/100/material-handling-machinery\n",
      "/stocks/industry/127/oil-field-machinery-equipment\n",
      "/stocks/industry/177/steel---specialty-alloys\n",
      "/stocks/industry/224/e-p-mlp\n",
      "/stocks/industry/170/rubber-plastic-products\n",
      "/stocks/industry/228/communication-infrastructure\n",
      "/stocks/industry/288/business-office-products\n",
      "/stocks/industry/162/retail---jewelry-stores\n",
      "/stocks/industry/274/nanotechnology-equipment-and-services\n",
      "/stocks/industry/13/banks---midwest\n",
      "/stocks/industry/93/uniforms-related-apparel\n",
      "/stocks/industry/182/textile---mill-products\n",
      "/stocks/industry/80/glass-products-manufacturing\n",
      "/stocks/industry/233/wireline---national-providers\n",
      "/stocks/industry/237/satellite-communication\n",
      "/stocks/industry/231/communications-network-software\n",
      "/stocks/industry/235/wireline---non-us-providers\n",
      "/stocks/industry/101/printing-trade-machinery\n",
      "/stocks/industry/242/semiconductor---analog-mixed\n",
      "/stocks/industry/270/biofuels-equipment-and-services\n",
      "/stocks/industry/110/medical---nursing-homes\n",
      "/stocks/industry/124/office-automation-equipment\n",
      "/stocks/industry/126/oil-gas---us-royalty\n",
      "/stocks/industry/226/semiconductors---communication\n",
      "/stocks/industry/262/semiconductor---fabrication-foundries\n",
      "/stocks/industry/149/periodical-publishing\n",
      "/stocks/industry/42/computer---peripherals\n",
      "/stocks/industry/145/commercial-printing-services\n",
      "/stocks/industry/163/retail---mail-order--\n"
     ]
    }
   ],
   "source": [
    "tds = soup.find(\"table\", \"table table-bordered table-hover\").findAll(\"td\")\n",
    "\n",
    "for i in range(0, len(tds), 3):\n",
    "    href = tds[i].a['href']\n",
    "    print(i, href)\n",
    "    "
   ]
  },
  {
   "cell_type": "code",
   "execution_count": 22,
   "metadata": {},
   "outputs": [
    {
     "ename": "WebDriverException",
     "evalue": "Message: Can not connect to the Service C:\\Program Files (x86)\\chromedriver.exe\n",
     "output_type": "error",
     "traceback": [
      "\u001b[1;31m---------------------------------------------------------------------------\u001b[0m",
      "\u001b[1;31mWebDriverException\u001b[0m                        Traceback (most recent call last)",
      "\u001b[1;32m<ipython-input-22-65db994eefff>\u001b[0m in \u001b[0;36m<module>\u001b[1;34m\u001b[0m\n\u001b[0;32m      3\u001b[0m \u001b[1;33m\u001b[0m\u001b[0m\n\u001b[0;32m      4\u001b[0m \u001b[0murl_2\u001b[0m \u001b[1;33m=\u001b[0m \u001b[1;34m\"https://www.macrotrends.net/stocks/industry/225/large-cap-pharmaceutical\"\u001b[0m\u001b[1;33m\u001b[0m\u001b[1;33m\u001b[0m\u001b[0m\n\u001b[1;32m----> 5\u001b[1;33m \u001b[0mbrowser\u001b[0m \u001b[1;33m=\u001b[0m \u001b[0mwebdriver\u001b[0m\u001b[1;33m.\u001b[0m\u001b[0mPhantomJS\u001b[0m\u001b[1;33m(\u001b[0m\u001b[1;34m\"C:\\Program Files (x86)\\chromedriver.exe\"\u001b[0m\u001b[1;33m)\u001b[0m\u001b[1;33m\u001b[0m\u001b[1;33m\u001b[0m\u001b[0m\n\u001b[0m\u001b[0;32m      6\u001b[0m \u001b[0mbrowser\u001b[0m\u001b[1;33m.\u001b[0m\u001b[0mget\u001b[0m\u001b[1;33m(\u001b[0m\u001b[0murl_2\u001b[0m\u001b[1;33m)\u001b[0m\u001b[1;33m\u001b[0m\u001b[1;33m\u001b[0m\u001b[0m\n\u001b[0;32m      7\u001b[0m \u001b[0mhtml\u001b[0m \u001b[1;33m=\u001b[0m \u001b[0mbrowser\u001b[0m\u001b[1;33m.\u001b[0m\u001b[0mpage_source\u001b[0m\u001b[1;33m\u001b[0m\u001b[1;33m\u001b[0m\u001b[0m\n",
      "\u001b[1;32mR:\\Work\\Anacond\\lib\\site-packages\\selenium\\webdriver\\phantomjs\\webdriver.py\u001b[0m in \u001b[0;36m__init__\u001b[1;34m(self, executable_path, port, desired_capabilities, service_args, service_log_path)\u001b[0m\n\u001b[0;32m     54\u001b[0m             \u001b[0mservice_args\u001b[0m\u001b[1;33m=\u001b[0m\u001b[0mservice_args\u001b[0m\u001b[1;33m,\u001b[0m\u001b[1;33m\u001b[0m\u001b[1;33m\u001b[0m\u001b[0m\n\u001b[0;32m     55\u001b[0m             log_path=service_log_path)\n\u001b[1;32m---> 56\u001b[1;33m         \u001b[0mself\u001b[0m\u001b[1;33m.\u001b[0m\u001b[0mservice\u001b[0m\u001b[1;33m.\u001b[0m\u001b[0mstart\u001b[0m\u001b[1;33m(\u001b[0m\u001b[1;33m)\u001b[0m\u001b[1;33m\u001b[0m\u001b[1;33m\u001b[0m\u001b[0m\n\u001b[0m\u001b[0;32m     57\u001b[0m \u001b[1;33m\u001b[0m\u001b[0m\n\u001b[0;32m     58\u001b[0m         \u001b[1;32mtry\u001b[0m\u001b[1;33m:\u001b[0m\u001b[1;33m\u001b[0m\u001b[1;33m\u001b[0m\u001b[0m\n",
      "\u001b[1;32mR:\\Work\\Anacond\\lib\\site-packages\\selenium\\webdriver\\common\\service.py\u001b[0m in \u001b[0;36mstart\u001b[1;34m(self)\u001b[0m\n\u001b[0;32m    102\u001b[0m             \u001b[0mtime\u001b[0m\u001b[1;33m.\u001b[0m\u001b[0msleep\u001b[0m\u001b[1;33m(\u001b[0m\u001b[1;36m1\u001b[0m\u001b[1;33m)\u001b[0m\u001b[1;33m\u001b[0m\u001b[1;33m\u001b[0m\u001b[0m\n\u001b[0;32m    103\u001b[0m             \u001b[1;32mif\u001b[0m \u001b[0mcount\u001b[0m \u001b[1;33m==\u001b[0m \u001b[1;36m30\u001b[0m\u001b[1;33m:\u001b[0m\u001b[1;33m\u001b[0m\u001b[1;33m\u001b[0m\u001b[0m\n\u001b[1;32m--> 104\u001b[1;33m                 \u001b[1;32mraise\u001b[0m \u001b[0mWebDriverException\u001b[0m\u001b[1;33m(\u001b[0m\u001b[1;34m\"Can not connect to the Service %s\"\u001b[0m \u001b[1;33m%\u001b[0m \u001b[0mself\u001b[0m\u001b[1;33m.\u001b[0m\u001b[0mpath\u001b[0m\u001b[1;33m)\u001b[0m\u001b[1;33m\u001b[0m\u001b[1;33m\u001b[0m\u001b[0m\n\u001b[0m\u001b[0;32m    105\u001b[0m \u001b[1;33m\u001b[0m\u001b[0m\n\u001b[0;32m    106\u001b[0m     \u001b[1;32mdef\u001b[0m \u001b[0massert_process_still_running\u001b[0m\u001b[1;33m(\u001b[0m\u001b[0mself\u001b[0m\u001b[1;33m)\u001b[0m\u001b[1;33m:\u001b[0m\u001b[1;33m\u001b[0m\u001b[1;33m\u001b[0m\u001b[0m\n",
      "\u001b[1;31mWebDriverException\u001b[0m: Message: Can not connect to the Service C:\\Program Files (x86)\\chromedriver.exe\n"
     ]
    }
   ],
   "source": [
    "from bs4 import BeautifulSoup\n",
    "from selenium import webdriver\n",
    "\n",
    "url_2 = \"https://www.macrotrends.net/stocks/industry/225/large-cap-pharmaceutical\"\n",
    "browser = webdriver.PhantomJS(\"C:\\Program Files (x86)\\chromedriver.exe\")\n",
    "browser.get(url_2)\n",
    "html = browser.page_source\n",
    "soup = BeautifulSoup(html, 'lxml')"
   ]
  },
  {
   "cell_type": "code",
   "execution_count": null,
   "metadata": {},
   "outputs": [],
   "source": [
    "soup"
   ]
  },
  {
   "cell_type": "code",
   "execution_count": 19,
   "metadata": {},
   "outputs": [],
   "source": [
    "soup.find(\"div\", \"jqx-grid-content jqx-widget-content\")"
   ]
  },
  {
   "cell_type": "code",
   "execution_count": 20,
   "metadata": {},
   "outputs": [
    {
     "data": {
      "text/plain": [
       "[]"
      ]
     },
     "execution_count": 20,
     "metadata": {},
     "output_type": "execute_result"
    }
   ],
   "source": [
    "soup.findAll(\"div\", {\"role\":\"row\"})"
   ]
  },
  {
   "cell_type": "code",
   "execution_count": null,
   "metadata": {},
   "outputs": [],
   "source": []
  }
 ],
 "metadata": {
  "kernelspec": {
   "display_name": "Python 3",
   "language": "python",
   "name": "python3"
  },
  "language_info": {
   "codemirror_mode": {
    "name": "ipython",
    "version": 3
   },
   "file_extension": ".py",
   "mimetype": "text/x-python",
   "name": "python",
   "nbconvert_exporter": "python",
   "pygments_lexer": "ipython3",
   "version": "3.7.6"
  }
 },
 "nbformat": 4,
 "nbformat_minor": 4
}
