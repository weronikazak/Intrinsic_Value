{
 "cells": [
  {
   "cell_type": "code",
   "execution_count": 6,
   "metadata": {},
   "outputs": [],
   "source": [
    "import pandas as pd\n",
    "import numpy as np\n",
    "from bs4 import BeautifulSoup as soup\n",
    "import requests\n",
    "from datetime import date\n",
    "import yfinance as yf"
   ]
  },
  {
   "cell_type": "code",
   "execution_count": 7,
   "metadata": {},
   "outputs": [],
   "source": [
    "tick = \"DIS\""
   ]
  },
  {
   "cell_type": "code",
   "execution_count": 74,
   "metadata": {},
   "outputs": [],
   "source": [
    "def get_by_tick(tick):\n",
    "    df = pd.read_csv(\"companies.csv\")\n",
    "    row = df[(df == tick).any(axis=1)]\n",
    "    return row.values[0]"
   ]
  },
  {
   "cell_type": "code",
   "execution_count": 75,
   "metadata": {},
   "outputs": [
    {
     "name": "stdout",
     "output_type": "stream",
     "text": [
      "DIS disney The Walt Disney Company\n"
     ]
    }
   ],
   "source": [
    "ticker, short, name = get_by_tick(tick)\n",
    "print(ticker, short, name)"
   ]
  },
  {
   "cell_type": "code",
   "execution_count": 76,
   "metadata": {},
   "outputs": [],
   "source": [
    "def get_page_content(link):\n",
    "    page = requests.get(link, headers={'User-Agent':'Mozilla/5.0 (Windows NT 10.0; Win64; x64; rv:61.0) Gecko/20100101 Firefox/61.0'})\n",
    "    content = soup(page.content, \"html.parser\")\n",
    "    return content"
   ]
  },
  {
   "cell_type": "code",
   "execution_count": 77,
   "metadata": {},
   "outputs": [],
   "source": [
    "def get_current_cashflow(ticker, short, precovid=True):\n",
    "    URL = f\"https://www.macrotrends.net/stocks/charts/{ticker}/{short}/free-cash-flow\"\n",
    "    page = get_page_content(URL)\n",
    "    cashflows = {}\n",
    "\n",
    "    tbody = page.find(\"table\", \"historical_data_table\").find(\"tbody\")\n",
    "    for tr in reversed(tbody.findAll(\"tr\")):\n",
    "        trs = tr.findAll(\"td\")\n",
    "        year = int(trs[0].text.split(\"-\")[0])\n",
    "        if precovid and year > 2018: continue # eliminate post-covid\n",
    "        price = float(trs[1].text.replace(\",\",\"\").strip())\n",
    "        cashflows[year] = price\n",
    "    return cashflows"
   ]
  },
  {
   "cell_type": "code",
   "execution_count": 78,
   "metadata": {},
   "outputs": [
    {
     "data": {
      "text/plain": [
       "{2009: 3566.0,\n",
       " 2010: 4468.0,\n",
       " 2011: 3435.0,\n",
       " 2012: 4182.0,\n",
       " 2013: 6656.0,\n",
       " 2014: 6469.0,\n",
       " 2015: 7120.0,\n",
       " 2016: 8363.0,\n",
       " 2017: 8720.0,\n",
       " 2018: 9830.0}"
      ]
     },
     "execution_count": 78,
     "metadata": {},
     "output_type": "execute_result"
    }
   ],
   "source": [
    "cashflows = get_current_cashflow(ticker, short, precovid=True)\n",
    "cashflows"
   ]
  },
  {
   "cell_type": "code",
   "execution_count": 79,
   "metadata": {},
   "outputs": [],
   "source": [
    "def get_growth_rates(cashflows):\n",
    "    df = pd.DataFrame([cashflows])\n",
    "    growth_rates = {}\n",
    "\n",
    "    for year1, year2 in zip(df, df.iloc[:, 1:]):\n",
    "        price1 = df[year1].iloc[0]\n",
    "        price2 = df[year2].iloc[0]\n",
    "        growth_rate = (price2 - price1) / price1\n",
    "        growth_rates[year2] = round(growth_rate, 4)\n",
    "    avg_growth_rate = round(np.mean(list(growth_rates.values())), 4)\n",
    "    return growth_rates, avg_growth_rate"
   ]
  },
  {
   "cell_type": "code",
   "execution_count": 80,
   "metadata": {},
   "outputs": [
    {
     "data": {
      "text/plain": [
       "({2010: 0.2529,\n",
       "  2011: -0.2312,\n",
       "  2012: 0.2175,\n",
       "  2013: 0.5916,\n",
       "  2014: -0.0281,\n",
       "  2015: 0.1006,\n",
       "  2016: 0.1746,\n",
       "  2017: 0.0427,\n",
       "  2018: 0.1273},\n",
       " 0.1387)"
      ]
     },
     "execution_count": 80,
     "metadata": {},
     "output_type": "execute_result"
    }
   ],
   "source": [
    "growth_rates, avg_growth_rate = get_growth_rates(cashflows)\n",
    "growth_rates, avg_growth_rate"
   ]
  },
  {
   "cell_type": "code",
   "execution_count": 81,
   "metadata": {},
   "outputs": [],
   "source": [
    "def get_future_cashflows(cashflows, avg_growth_rate):\n",
    "    future_cashflows = {}\n",
    "    year = date.today().year + 1\n",
    "    future_cashflows[year] = np.floor(cashflows[list(cashflows.keys())[-1]] * (1 + avg_growth_rate))\n",
    "    for year in range(year + 1, 2032):\n",
    "        future_cashflows[year] = np.floor(future_cashflows[year-1] + (future_cashflows[year-1] * avg_growth_rate))\n",
    "\n",
    "    return future_cashflows"
   ]
  },
  {
   "cell_type": "code",
   "execution_count": 82,
   "metadata": {},
   "outputs": [
    {
     "data": {
      "text/plain": [
       "{2023: 11193.0,\n",
       " 2024: 12745.0,\n",
       " 2025: 14512.0,\n",
       " 2026: 16524.0,\n",
       " 2027: 18815.0,\n",
       " 2028: 21424.0,\n",
       " 2029: 24395.0,\n",
       " 2030: 27778.0,\n",
       " 2031: 31630.0}"
      ]
     },
     "execution_count": 82,
     "metadata": {},
     "output_type": "execute_result"
    }
   ],
   "source": [
    "future_cashflows = get_future_cashflows(cashflows, avg_growth_rate)\n",
    "future_cashflows"
   ]
  },
  {
   "cell_type": "code",
   "execution_count": 83,
   "metadata": {},
   "outputs": [],
   "source": [
    "# rate at which the company will grow in the future. Usually 2.5%-3% as economy moves in that pace\n",
    "perpetual_growth_rate = 0.025\n",
    "# how much cheaper we want it to get\n",
    "dicount_rate = 0.08"
   ]
  },
  {
   "cell_type": "code",
   "execution_count": 84,
   "metadata": {},
   "outputs": [],
   "source": [
    "def get_terminal_value(future_cashflows, perpetual_growth_rate, dicount_rate):\n",
    "    price_2030 = future_cashflows[list(future_cashflows.keys())[-1]]\n",
    "    terminal_value = np.floor(price_2030 * (1+perpetual_growth_rate) / (dicount_rate-perpetual_growth_rate))\n",
    "    future_cashflows[\"Terminal\"] = terminal_value\n",
    "    return future_cashflows"
   ]
  },
  {
   "cell_type": "code",
   "execution_count": 85,
   "metadata": {},
   "outputs": [
    {
     "data": {
      "text/plain": [
       "{2023: 11193.0,\n",
       " 2024: 12745.0,\n",
       " 2025: 14512.0,\n",
       " 2026: 16524.0,\n",
       " 2027: 18815.0,\n",
       " 2028: 21424.0,\n",
       " 2029: 24395.0,\n",
       " 2030: 27778.0,\n",
       " 2031: 31630.0,\n",
       " 'Terminal': 589468.0}"
      ]
     },
     "execution_count": 85,
     "metadata": {},
     "output_type": "execute_result"
    }
   ],
   "source": [
    "future_cashflows = get_terminal_value(future_cashflows, perpetual_growth_rate, dicount_rate)\n",
    "future_cashflows"
   ]
  },
  {
   "cell_type": "code",
   "execution_count": 86,
   "metadata": {},
   "outputs": [],
   "source": [
    "def get_PV_of_FFCFs(future_cashflows, dicount_rate):\n",
    "    PV_of_FFCFs = {}\n",
    "    for (i, key) in enumerate(future_cashflows.keys()):\n",
    "        PV_of_FFCFs[key] = np.floor(future_cashflows[key] / (1 + dicount_rate)**(i+1))\n",
    "    sum_of_FFCFs = np.sum(list(PV_of_FFCFs.values()))\n",
    "    return PV_of_FFCFs, sum_of_FFCFs"
   ]
  },
  {
   "cell_type": "code",
   "execution_count": 87,
   "metadata": {},
   "outputs": [
    {
     "data": {
      "text/plain": [
       "({2023: 10363.0,\n",
       "  2024: 10926.0,\n",
       "  2025: 11520.0,\n",
       "  2026: 12145.0,\n",
       "  2027: 12805.0,\n",
       "  2028: 13500.0,\n",
       "  2029: 14234.0,\n",
       "  2030: 15007.0,\n",
       "  2031: 15822.0,\n",
       "  'Terminal': 273037.0},\n",
       " 389359.0)"
      ]
     },
     "execution_count": 87,
     "metadata": {},
     "output_type": "execute_result"
    }
   ],
   "source": [
    "PV_of_FFCFs, sum_of_FCFs = get_PV_of_FFCFs(future_cashflows, dicount_rate)\n",
    "PV_of_FFCFs, sum_of_FCFs"
   ]
  },
  {
   "cell_type": "code",
   "execution_count": 138,
   "metadata": {},
   "outputs": [],
   "source": [
    "def convert_to_B(val):\n",
    "    if (val[-1] == \"B\"):\n",
    "        val = val.replace(\"B\", \"\")\n",
    "        while (len(val.split(\".\")[-1]) < 3):\n",
    "            val += \"0\"\n",
    "        val = int(val.replace(\".\", \"\"))\n",
    "        return val\n",
    "    elif (val[-1] == \"M\"):\n",
    "        val = val.replace(\".\", \"\").replace(\"M\", \"\")\n",
    "        val = float(\"0.\" + val)\n",
    "        return val"
   ]
  },
  {
   "cell_type": "code",
   "execution_count": 97,
   "metadata": {},
   "outputs": [],
   "source": [
    "def get_cash_and_eq(tick):\n",
    "    return yf.Ticker(tick).balance_sheet.loc[\"Cash\"][0]/1_000_000"
   ]
  },
  {
   "cell_type": "code",
   "execution_count": 98,
   "metadata": {},
   "outputs": [
    {
     "data": {
      "text/plain": [
       "15959.0"
      ]
     },
     "execution_count": 98,
     "metadata": {},
     "output_type": "execute_result"
    }
   ],
   "source": [
    "cash_and_eq = get_cash_and_eq(tick)\n",
    "cash_and_eq"
   ]
  },
  {
   "cell_type": "code",
   "execution_count": 109,
   "metadata": {},
   "outputs": [],
   "source": [
    "def get_total_debt_and_shares(tick):\n",
    "    total_debt = int(yf.Ticker(tick).info[\"totalDebt\"]/1_000_000)\n",
    "    shares_outstanding = int(yf.Ticker(tick).info['sharesOutstanding']/1_000_000)\n",
    "\n",
    "    return total_debt, shares_outstanding"
   ]
  },
  {
   "cell_type": "code",
   "execution_count": 110,
   "metadata": {},
   "outputs": [
    {
     "data": {
      "text/plain": [
       "(52023, 1821)"
      ]
     },
     "execution_count": 110,
     "metadata": {},
     "output_type": "execute_result"
    }
   ],
   "source": [
    "total_debt, shares_outstanding= get_total_debt_and_shares(tick)\n",
    "total_debt, shares_outstanding"
   ]
  },
  {
   "cell_type": "code",
   "execution_count": 111,
   "metadata": {},
   "outputs": [],
   "source": [
    "def get_equity_and_intrinsic(sum_of_FCF, cash_and_eq, total_debt, shares_outstanding):\n",
    "    equity_value = sum_of_FCF + cash_and_eq - total_debt\n",
    "    \n",
    "    price_per_share = round(equity_value / shares_outstanding, 2)\n",
    "    \n",
    "    return equity_value, price_per_share"
   ]
  },
  {
   "cell_type": "code",
   "execution_count": 112,
   "metadata": {},
   "outputs": [
    {
     "data": {
      "text/plain": [
       "(353295.0, 194.01)"
      ]
     },
     "execution_count": 112,
     "metadata": {},
     "output_type": "execute_result"
    }
   ],
   "source": [
    "equity_value, price_per_share = get_equity_and_intrinsic(sum_of_FCFs, cash_and_eq, total_debt, shares_outstanding)\n",
    "equity_value, price_per_share"
   ]
  },
  {
   "cell_type": "code",
   "execution_count": null,
   "metadata": {},
   "outputs": [],
   "source": []
  }
 ],
 "metadata": {
  "kernelspec": {
   "display_name": "Python 3",
   "language": "python",
   "name": "python3"
  },
  "language_info": {
   "codemirror_mode": {
    "name": "ipython",
    "version": 3
   },
   "file_extension": ".py",
   "mimetype": "text/x-python",
   "name": "python",
   "nbconvert_exporter": "python",
   "pygments_lexer": "ipython3",
   "version": "3.7.6"
  }
 },
 "nbformat": 4,
 "nbformat_minor": 4
}
