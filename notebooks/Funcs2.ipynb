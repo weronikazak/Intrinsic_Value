{
 "cells": [
  {
   "cell_type": "code",
   "execution_count": 1,
   "metadata": {},
   "outputs": [],
   "source": [
    "import numpy as np\n",
    "import pandas as pd\n",
    "import os\n",
    "import yfinance as yf\n",
    "import datetime\n",
    "import requests\n",
    "import pickle\n",
    "from bs4 import BeautifulSoup as soup\n",
    "\n",
    "current_day = datetime.datetime.now().day\n",
    "current_year = datetime.datetime.now().year\n",
    "current_month = datetime.datetime.now().month\n",
    "years_forward = 4"
   ]
  },
  {
   "cell_type": "code",
   "execution_count": 2,
   "metadata": {},
   "outputs": [],
   "source": [
    "def get_name(i):\n",
    "\tname = i[\"shortName\"]\n",
    "\treturn name\n",
    "\n",
    "\n",
    "def get_current_price(i):\n",
    "\tcurrent_price = i[\"currentPrice\"]\n",
    "\treturn current_price\n",
    "\n",
    "\n",
    "def get_chart(h):\n",
    "\tchart_dates = h.index\n",
    "\tchart_values = h[\"Close\"].values\n",
    "\n",
    "\treturn chart_dates, chart_values"
   ]
  },
  {
   "cell_type": "code",
   "execution_count": 3,
   "metadata": {},
   "outputs": [],
   "source": [
    "def get_details(tick):\n",
    "    path = f\"stocks//{tick}//{int(current_day/5)*5}.{current_month}.{current_year}//\"\n",
    "    if not os.path.exists(path):\n",
    "        os.makedirs(path)\n",
    "        \n",
    "        info = yf.Ticker(tick).info\n",
    "\n",
    "        balance_sheet = yf.Ticker(tick).balance_sheet\n",
    "        balance_sheet = balance_sheet[balance_sheet.columns[::-1]]\n",
    "        balance_sheet.columns = pd.DatetimeIndex(balance_sheet.columns).year\n",
    "\n",
    "        cashflow = yf.Ticker(tick).cashflow\n",
    "        cashflow = cashflow[cashflow.columns[::-1]]\n",
    "        cashflow.columns = pd.DatetimeIndex(cashflow.columns).year\n",
    "\n",
    "        financials = yf.Ticker(tick).financials\n",
    "        financials = financials[financials.columns[::-1]]\n",
    "        financials.columns = pd.DatetimeIndex(financials.columns).year\n",
    "\n",
    "        analysis = yf.Ticker(tick).analysis\n",
    "\n",
    "        history = yf.Ticker(tick).history(period=\"5y\")\n",
    "        \n",
    "        with open(path + 'info.pkl', 'wb') as i:\n",
    "            pickle.dump(info, i)\n",
    "            \n",
    "        with open(path + 'balance_sheet.pkl', 'wb') as b:\n",
    "            pickle.dump(balance_sheet, b)\n",
    "            \n",
    "        with open(path + 'cashflow.pkl', 'wb') as c:\n",
    "            pickle.dump(cashflow, c)\n",
    "            \n",
    "        with open(path + 'financials.pkl', 'wb') as f:\n",
    "            pickle.dump(financials, f)\n",
    "            \n",
    "        with open(path + 'analysis.pkl', 'wb') as a:\n",
    "            pickle.dump(analysis, a)\n",
    "            \n",
    "        with open(path + 'history.pkl', 'wb') as h:\n",
    "            pickle.dump(history, h)\n",
    "        \n",
    "    else:\n",
    "        with open(path + 'info.pkl', 'rb') as i:\n",
    "            info = pickle.load(i)\n",
    "        \n",
    "        with open(path + 'balance_sheet.pkl', 'rb') as b:\n",
    "            balance_sheet = pickle.load(b)\n",
    "            \n",
    "        with open(path + 'cashflow.pkl', 'rb') as c:\n",
    "            cashflow = pickle.load(c)\n",
    "            \n",
    "        with open(path + 'financials.pkl', 'rb') as f:\n",
    "            financials = pickle.load(f)\n",
    "            \n",
    "        with open(path + 'analysis.pkl', 'rb') as a:\n",
    "            analysis = pickle.load(a)\n",
    "            \n",
    "        with open(path + 'history.pkl', 'rb') as h:\n",
    "            history = pickle.load(h)\n",
    "\n",
    "    return info, balance_sheet, cashflow, financials, analysis, history\n"
   ]
  },
  {
   "cell_type": "code",
   "execution_count": 4,
   "metadata": {},
   "outputs": [],
   "source": [
    "tick = \"AAPL\"\n",
    "i, b, c, f, a, h = get_details(tick)\n",
    "# name = get_name(i)\n",
    "# current_price = get_current_price(i)"
   ]
  },
  {
   "cell_type": "code",
   "execution_count": 9,
   "metadata": {},
   "outputs": [],
   "source": [
    "def get_free_cashflow(c):\n",
    "\tCPO = c.loc[\"Total Cash From Operating Activities\"].to_frame().T\n",
    "\tCAPEX = c.loc[\"Capital Expenditures\"].to_frame().T\n",
    "\tFCF = (CPO.iloc[0] + CAPEX.iloc[0]).to_frame().T\n",
    "\tFCF.index = [\"Free Cashflow\"]\n",
    "\tFCF = CPO.append([CAPEX, FCF])\n",
    "\treturn FCF"
   ]
  },
  {
   "cell_type": "code",
   "execution_count": 11,
   "metadata": {},
   "outputs": [
    {
     "data": {
      "text/plain": [
       "{2018: [77434000000.0, -13313000000.0, 64121000000.0],\n",
       " 2019: [69391000000.0, -10495000000.0, 58896000000.0],\n",
       " 2020: [80674000000.0, -7309000000.0, 73365000000.0],\n",
       " 2021: [104038000000.0, -11085000000.0, 92953000000.0]}"
      ]
     },
     "execution_count": 11,
     "metadata": {},
     "output_type": "execute_result"
    }
   ],
   "source": [
    "FCF = get_free_cashflow(c)\n",
    "FCF.to_dict('list')"
   ]
  },
  {
   "cell_type": "code",
   "execution_count": 15,
   "metadata": {},
   "outputs": [],
   "source": [
    "def get_net_income(c, FCF):\n",
    "\tnet_income = c.loc[\"Net Income\"].to_frame().T\n",
    "\tnet_income.loc[\"Free Cash Flow to Equity\"] = FCF.loc[\"Free Cashflow\"]\n",
    "\tnet_income.loc[\"FCFE/Net Income\"] = (FCF.loc[\"Free Cashflow\"] / net_income.loc[\"Net Income\"])\n",
    "\tnet_income.loc[\"FCFE/Net Income\"] = net_income.loc[\"FCFE/Net Income\"].round(2) * 100\n",
    "\t\n",
    "\tmedian_FFCE = net_income.loc[\"FCFE/Net Income\"].median()\n",
    "\t\n",
    "\treturn median_FFCE, net_income"
   ]
  },
  {
   "cell_type": "code",
   "execution_count": 16,
   "metadata": {},
   "outputs": [
    {
     "data": {
      "text/plain": [
       "107.5"
      ]
     },
     "execution_count": 16,
     "metadata": {},
     "output_type": "execute_result"
    }
   ],
   "source": [
    "median_FFCE, net_income = get_net_income(c, FCF)\n",
    "median_FFCE"
   ]
  },
  {
   "cell_type": "code",
   "execution_count": 17,
   "metadata": {},
   "outputs": [
    {
     "data": {
      "text/plain": [
       "{2018: [59531000000.0, 64121000000.0, 108.0],\n",
       " 2019: [55256000000.0, 58896000000.0, 107.0],\n",
       " 2020: [57411000000.0, 73365000000.0, 128.0],\n",
       " 2021: [94680000000.0, 92953000000.0, 98.0]}"
      ]
     },
     "execution_count": 17,
     "metadata": {},
     "output_type": "execute_result"
    }
   ],
   "source": [
    "net_income.to_dict('list')"
   ]
  },
  {
   "cell_type": "code",
   "execution_count": 18,
   "metadata": {},
   "outputs": [],
   "source": [
    "def get_total_revenue(f, a):\n",
    "\ttotal_revenue = f.loc[\"Total Revenue\"].to_frame().T\n",
    "\ttotal_revenue[current_year] = a[\"Revenue Estimate Low\"].loc[\"0Y\"]\n",
    "\ttotal_revenue[current_year+1] = a[\"Revenue Estimate Low\"].loc[\"+1Y\"]\n",
    "\n",
    "\tgrowths = [np.nan]\n",
    "\tfor year1, year2 in zip(total_revenue, total_revenue.iloc[:, 1:]):\n",
    "\t\ty1 = total_revenue[year1].iloc[0]\n",
    "\t\ty2 = total_revenue[year2].iloc[0]\n",
    "\t\tgrowth = round((y2 - y1)/y1*100, 2)\n",
    "\t\tgrowths.append(growth)\n",
    "\n",
    "\ttotal_revenue.loc[\"Revenue Growth Rate\"] = growths\n",
    "\tmedian_growth = total_revenue.loc[\"Revenue Growth Rate\"].median()\n",
    "\n",
    "\treturn median_growth, total_revenue"
   ]
  },
  {
   "cell_type": "code",
   "execution_count": 19,
   "metadata": {},
   "outputs": [
    {
     "data": {
      "text/plain": [
       "5.51"
      ]
     },
     "execution_count": 19,
     "metadata": {},
     "output_type": "execute_result"
    }
   ],
   "source": [
    "median_growth, total_revenue = get_total_revenue(f, a)\n",
    "median_growth"
   ]
  },
  {
   "cell_type": "code",
   "execution_count": 20,
   "metadata": {},
   "outputs": [
    {
     "data": {
      "text/plain": [
       "{2018: [265595000000.0, nan],\n",
       " 2019: [260174000000.0, -2.04],\n",
       " 2020: [274515000000.0, 5.51],\n",
       " 2021: [365817000000.0, 33.26],\n",
       " 2022: [387200000000.0, 5.85],\n",
       " 2023: [393766000000.0, 1.7]}"
      ]
     },
     "execution_count": 20,
     "metadata": {},
     "output_type": "execute_result"
    }
   ],
   "source": [
    "total_revenue.to_dict('list')"
   ]
  },
  {
   "cell_type": "code",
   "execution_count": 24,
   "metadata": {},
   "outputs": [],
   "source": [
    "def get_net_income_margins(total_revenue, net_income):\n",
    "\tnet_income_margins = pd.concat([total_revenue.loc[\"Total Revenue\"].to_frame().T, net_income.loc[\"Net Income\"].to_frame().T])\n",
    "\t\n",
    "\tnet_income = []\n",
    "\tfor year in net_income_margins.columns:\n",
    "\t\trevenue = net_income_margins[year].loc[\"Total Revenue\"]\n",
    "\t\tnetincome = net_income_margins[year].loc[\"Net Income\"]\n",
    "\t\tnet = round(netincome/revenue * 100, 2)\n",
    "\t\tnet_income.append(net)\n",
    "\tnet_income_margins.loc[\"Net Income Margins\"] = net_income\n",
    "\t\n",
    "\tfree_cashflow_rate_median = net_income_margins.loc[\"Net Income Margins\"].median()\n",
    "\n",
    "\treturn free_cashflow_rate_median, net_income_margins"
   ]
  },
  {
   "cell_type": "code",
   "execution_count": 25,
   "metadata": {},
   "outputs": [
    {
     "data": {
      "text/plain": [
       "21.825"
      ]
     },
     "execution_count": 25,
     "metadata": {},
     "output_type": "execute_result"
    }
   ],
   "source": [
    "free_cashflow_rate_median, net_income_margins = get_net_income_margins(total_revenue, net_income)\n",
    "free_cashflow_rate_median"
   ]
  },
  {
   "cell_type": "code",
   "execution_count": 26,
   "metadata": {},
   "outputs": [
    {
     "data": {
      "text/plain": [
       "{2018: [265595000000.0, 59531000000.0, 22.41],\n",
       " 2019: [260174000000.0, 55256000000.0, 21.24],\n",
       " 2020: [274515000000.0, 57411000000.0, 20.91],\n",
       " 2021: [365817000000.0, 94680000000.0, 25.88],\n",
       " 2022: [387200000000.0, nan, nan],\n",
       " 2023: [393766000000.0, nan, nan]}"
      ]
     },
     "execution_count": 26,
     "metadata": {},
     "output_type": "execute_result"
    }
   ],
   "source": [
    "net_income_margins.to_dict('list')"
   ]
  },
  {
   "cell_type": "code",
   "execution_count": 27,
   "metadata": {},
   "outputs": [],
   "source": [
    "def get_income_statement_ahead(net_income_margins, median_growth, median_FFCE, FCF, free_cashflow_rate_median):\n",
    "\tincome_statement_numbers = net_income_margins.copy()\n",
    "\tincome_statement_numbers = net_income_margins.drop(index=\"Net Income Margins\", axis=0)\n",
    "\tincome_statement_numbers = income_statement_numbers.append(FCF.loc[\"Free Cashflow\"])\n",
    "\n",
    "\tfor y in range(current_year, current_year+years_forward):\n",
    "\t\trev = income_statement_numbers[y-1].loc[\"Total Revenue\"] * (1+ (median_growth/ 100))\n",
    "\t\tn = rev * free_cashflow_rate_median / 100\n",
    "\t\tfcf = n * median_FFCE / 100\n",
    "\t\tincome_statement_numbers[y] = [rev, n, fcf]\n",
    "\t\t\n",
    "\treturn income_statement_numbers"
   ]
  },
  {
   "cell_type": "code",
   "execution_count": 29,
   "metadata": {},
   "outputs": [
    {
     "data": {
      "text/plain": [
       "{2018: [265595000000.0, 59531000000.0, 64121000000.0],\n",
       " 2019: [260174000000.0, 55256000000.0, 58896000000.0],\n",
       " 2020: [274515000000.0, 57411000000.0, 73365000000.0],\n",
       " 2021: [365817000000.0, 94680000000.0, 92953000000.0],\n",
       " 2022: [385973516700.0, 84238720019.775, 90556624021.25812],\n",
       " 2023: [407240657470.17, 88880273492.8646, 95546294004.82944],\n",
       " 2024: [429679617696.7763, 93777576562.32143, 100810894804.49553],\n",
       " 2025: [453354964631.86865, 98944721030.90533, 106365575108.22324]}"
      ]
     },
     "execution_count": 29,
     "metadata": {},
     "output_type": "execute_result"
    }
   ],
   "source": [
    "income_statement_numbers = get_income_statement_ahead(net_income_margins, median_growth, median_FFCE, FCF, free_cashflow_rate_median)\n",
    "income_statement_numbers.to_dict('list')"
   ]
  },
  {
   "cell_type": "code",
   "execution_count": 30,
   "metadata": {},
   "outputs": [],
   "source": [
    "def scrap_Rf():\n",
    "\tif (os.path.isfile('./TNX.txt')):\n",
    "\t\twith open(\"./TNX.txt\", \"r\") as f:\n",
    "\t\t\tfile_date = f.readline().strip()\n",
    "\t\t\tRf = float(f.readline().strip())\n",
    "\t\t\tif file_date == f\"{current_month}/{current_year}\":\n",
    "\t\t\t\treturn Rf\n",
    "\n",
    "\tpage = requests.get(\"https://finance.yahoo.com/bonds\")\n",
    "\tcontent = soup(page.content, \"html.parser\")\n",
    "\tRf = float(content.find(\"fin-streamer\", {\"data-symbol\":\"^TNX\"}).text)\n",
    "\tif Rf:\n",
    "\t\twith open(\"./TNX.txt\", \"w\") as f:\n",
    "\t\t\tf.write(f\"{current_month}/{current_year}\\n{Rf}\")\n",
    "\telse: \n",
    "\t\tRf = 3\n",
    "\treturn Rf"
   ]
  },
  {
   "cell_type": "code",
   "execution_count": 33,
   "metadata": {},
   "outputs": [],
   "source": [
    "def get_WACC(f, b, i):\n",
    "\tt = f[current_year-1].loc[\"Income Tax Expense\"]/f[current_year-1].loc[\"Income Before Tax\"]\n",
    "\tt = round(t, 4)\n",
    "\n",
    "\trd = (round(abs(f[current_year-1].loc[\"Interest Expense\"])*100 / \n",
    "\t\t\t (b[current_year-1].loc[\"Short Long Term Debt\"]+b[current_year-1].loc[\"Long Term Debt\"]),2))\n",
    "\n",
    "\tRf = scrap_Rf()\n",
    "\n",
    "\tB = i[\"beta\"] if i[\"beta\"] != None else 0.8\n",
    "\n",
    "\tRm = 10\n",
    "    \n",
    "\tRa = Rf + B*(Rm - Rf)\n",
    "\tre = Ra\n",
    "\n",
    "\ttotal = i[\"totalDebt\"] + i[\"marketCap\"]\n",
    "\twd = i[\"totalDebt\"]*100/total\n",
    "\twe = i[\"marketCap\"]*100/total\n",
    "\n",
    "\tWACC = round((wd*rd*(1-t) + we*re)/100,2)\n",
    "\trequired_return = WACC\n",
    "\tr = required_return/100\n",
    "\n",
    "\treturn r"
   ]
  },
  {
   "cell_type": "code",
   "execution_count": 34,
   "metadata": {},
   "outputs": [
    {
     "data": {
      "text/plain": [
       "0.10880000000000001"
      ]
     },
     "execution_count": 34,
     "metadata": {},
     "output_type": "execute_result"
    }
   ],
   "source": [
    "r = get_WACC(f, b, i)\n",
    "r"
   ]
  },
  {
   "cell_type": "code",
   "execution_count": 35,
   "metadata": {},
   "outputs": [],
   "source": [
    "def get_terminal_value(i, income_statement_numbers, r):\n",
    "\tperpetual_growth = 2.5\n",
    "\tg = perpetual_growth / 100\n",
    "\n",
    "\tFCFE0 = income_statement_numbers[current_year+years_forward-1].loc[\"Free Cashflow\"]\n",
    "\tterminal_value = (FCFE0*(1+g))/(r-g)\n",
    "\tterminal_value = round(terminal_value)\n",
    "\n",
    "\treturn terminal_value, g"
   ]
  },
  {
   "cell_type": "code",
   "execution_count": 36,
   "metadata": {},
   "outputs": [
    {
     "data": {
      "text/plain": [
       "1301010912720"
      ]
     },
     "execution_count": 36,
     "metadata": {},
     "output_type": "execute_result"
    }
   ],
   "source": [
    "terminal_value, g = get_terminal_value(i, income_statement_numbers, r)\n",
    "terminal_value"
   ]
  },
  {
   "cell_type": "code",
   "execution_count": 37,
   "metadata": {},
   "outputs": [],
   "source": [
    "def get_discount_factors(income_statement_numbers, r):\n",
    "\tcols_to_drop = list(filter(lambda x: x < current_year, income_statement_numbers.columns))\n",
    "\tdiscount_factors = income_statement_numbers.loc[\"Free Cashflow\"].to_frame().T.drop(cols_to_drop, axis=1)\n",
    "\n",
    "\tdiscount_facs = []\n",
    "\tdiscount_val = []\n",
    "\tfor (j, year) in enumerate(discount_factors.columns):\n",
    "\t\tdiscount = (1 + r)**(j+1)\n",
    "\t\tcashflow = discount_factors[year].loc[\"Free Cashflow\"]\n",
    "\t\tdiscount_facs.append(discount)\n",
    "\t\tdiscount_val.append(cashflow/discount)\n",
    "\t\t\n",
    "\tdiscount_factors.loc[\"Discount Factor\"] = discount_facs\n",
    "\tdiscount_factors.loc[\"PV of Future Cash Flow\"] = discount_val\n",
    "\treturn discount_factors"
   ]
  },
  {
   "cell_type": "code",
   "execution_count": 39,
   "metadata": {},
   "outputs": [
    {
     "data": {
      "text/plain": [
       "{2022: [90556624021.25812, 1.1088, 81670836960.00912],\n",
       " 2023: [95546294004.82944, 1.22943744, 77715458221.95673],\n",
       " 2024: [100810894804.49553, 1.363200233472, 73951641387.073],\n",
       " 2025: [106365575108.22324, 1.5115164188737535, 70370108971.4112]}"
      ]
     },
     "execution_count": 39,
     "metadata": {},
     "output_type": "execute_result"
    }
   ],
   "source": [
    "discount_factors = get_discount_factors(income_statement_numbers, r)\n",
    "discount_factors.to_dict('list')"
   ]
  },
  {
   "cell_type": "code",
   "execution_count": 40,
   "metadata": {},
   "outputs": [],
   "source": [
    "def get_intrinsic_value(i, terminal_value, discount_facs, margin_of_safety = 0.2):\n",
    "\tshares_outstanding = i[\"sharesOutstanding\"]\n",
    "\tPV_of_terminal_value = round(terminal_value * discount_factors[current_year+years_forward-1].loc[\"Discount Factor\"])\n",
    "\ttodays_value = round(discount_factors.loc[\"PV of Future Cash Flow\"].sum() + PV_of_terminal_value)\n",
    "\t\n",
    "\tfair_value_of_equity = todays_value/shares_outstanding\n",
    "\tintrinsic_value = fair_value_of_equity*(1-margin_of_safety)\n",
    "\n",
    "\treturn intrinsic_value"
   ]
  },
  {
   "cell_type": "code",
   "execution_count": 41,
   "metadata": {},
   "outputs": [
    {
     "data": {
      "text/plain": [
       "112.2115243610969"
      ]
     },
     "execution_count": 41,
     "metadata": {},
     "output_type": "execute_result"
    }
   ],
   "source": [
    "intrinsic_value = get_intrinsic_value(i, terminal_value, discount_factors, margin_of_safety = 0.2)\n",
    "intrinsic_value"
   ]
  },
  {
   "cell_type": "code",
   "execution_count": null,
   "metadata": {},
   "outputs": [],
   "source": []
  }
 ],
 "metadata": {
  "kernelspec": {
   "display_name": "Python 3",
   "language": "python",
   "name": "python3"
  },
  "language_info": {
   "codemirror_mode": {
    "name": "ipython",
    "version": 3
   },
   "file_extension": ".py",
   "mimetype": "text/x-python",
   "name": "python",
   "nbconvert_exporter": "python",
   "pygments_lexer": "ipython3",
   "version": "3.7.6"
  }
 },
 "nbformat": 4,
 "nbformat_minor": 4
}
