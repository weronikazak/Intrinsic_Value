{
 "cells": [
  {
   "cell_type": "code",
   "execution_count": 1,
   "metadata": {},
   "outputs": [],
   "source": [
    "import numpy as np\n",
    "import pandas as pd\n",
    "import os\n",
    "import yfinance as yf\n",
    "import datetime\n",
    "import requests\n",
    "from bs4 import BeautifulSoup as soup"
   ]
  },
  {
   "cell_type": "markdown",
   "metadata": {},
   "source": [
    "## Consistency is King\n",
    "\n",
    "Consistency in:\n",
    "- earnings\n",
    "- low debt\n",
    "- growing earning\n",
    "- low spending in capital expenditures and R&D\n",
    "- profitability\n",
    "\n",
    "If the company has been around for a long period of time (has been proving its durability), that's better for you, as it minimizes its costs.\n",
    "\n",
    "Selling the same product for many years has a great advantage for its stackholders.\n",
    "\n",
    "Costs reduced:\n",
    "- production costs (as the need to upgrade machinery decreases)\n",
    "- it reduces marketing costs as marketing efforsts are cumulative\n",
    "- it reduces costs for research and development\n",
    "- lowers the training costs of employees\n",
    "- IT REDUCES THE RISK OF HAVING OBSOLETE INVENTORY"
   ]
  },
  {
   "cell_type": "markdown",
   "metadata": {},
   "source": [
    "## Income Statement\n",
    "(Measure of financial performance)\n",
    "\n",
    "- Consistency in Net earnings (Net Income)\n",
    "\n",
    "- Consistent and high gross margin (40%+) [the more the company sells, the greater the profitability becomes]\n",
    "\n",
    "- Calculate Net Income / Revenue (smth of 20%+ is a very good result revealing that we're dealing with a smoothly run business) Tells you how much money is left for potential reinvestments in the firm, or for distibution to shareholders per earned dollar in the firm (depends on the firm; 5% for tech company is terrible but brilliant for service company)\n",
    "\n",
    "- Current ratio (divide current assets with current liabilites) - indicator of whether the company will be able t pay its short-term obligations or not. The indicator be better more than 1, especially if the company is sstruggling with progfit, or else it will soon have to sell off long term assets, borrow more money or ask investors for capital (ideally more than 2, but it depends on the company)\n",
    "\n",
    "- Little to no importance at all should be given to the part of assets on the balance sheet that are referred to as intangibles"
   ]
  },
  {
   "cell_type": "markdown",
   "metadata": {},
   "source": [
    "## Balance Sheet\n",
    "\n",
    "- Retained Earnings (added to or withdrawn from each year depending on if the company is reinvesting its net income ot not) - steady growth good\n",
    "\n",
    "- Return on Equity - compare net income to the total equity  of the company\n",
    "\n",
    "- little to no long term debt (banks are exception!) [if a company can pay off its long term debt with less than four years of earnings, it's in quite good position]\n",
    "\n",
    "\n",
    "- P/B, Price to Book ratio - calculated by dividing the maket cap of the company with the total value of its balance sheet, which is equal to the sum of either the left-hand or right-hand side (dependent on the industry again - money bank may have a huge banace sheet and therefore a low P/B ratio, while a consulting firm is the opposite situation)\n",
    "\n",
    "- Sometimes the balance sheet is inflated - and this can cause problems fot the stock investor"
   ]
  },
  {
   "cell_type": "markdown",
   "metadata": {},
   "source": [
    "## Cashflow Statement\n",
    "(Represents actual ins and outs of money)\n",
    "\n",
    "- Capital Expenditures (money being spent on properties, plant and equipment)\n",
    "- Look at Capital Expenditures / Net Income ratio (in percents). You want them to be as low as possible. Lower than 25% - very good, less than 50% - acceptable\n",
    "- Retained earnings (growing or not, they might be distributed to the share holders)\n",
    "- Augumented Payout Ratio (if more than 100% - company is distibuting more money than it earns)"
   ]
  },
  {
   "cell_type": "markdown",
   "metadata": {},
   "source": [
    "## When to Sell?\n",
    "\n",
    "- When you have to switch from something good to omething exceptional (epecially in bear markets)\n",
    "- When a company may lose its competetive advantage\n",
    "- During crazy bull markets (for P/E>40 you should consider selling your stock, een if you belive in the underlying economics of the company)"
   ]
  },
  {
   "cell_type": "markdown",
   "metadata": {},
   "source": [
    "## Watered Down companies (Book Value)\n",
    "\n",
    "If a firm was to sell off all its assets today and using that to repay liabilites, the remaining cash is reffered to as book value\n",
    "\n",
    "- Although very uncommon, a stock with a bok value which exceeds its current market cap, is a very interesting opportunity.\n",
    "\n",
    "If using the book value approach:\n",
    "\n",
    "- current assets > fixed assets\n",
    "\n",
    "- the company is in a bad bargaining position in the event of a liquidation, so assets should probably be valued lower than market value.\n",
    "\n",
    "- the characteristics of assets must be conidered (a specialised manufacturing company will probs have a harder time to sell off its manufacturing plants than a bank or an insurance company will have to sell off their financial assets"
   ]
  },
  {
   "cell_type": "markdown",
   "metadata": {},
   "source": [
    "## Quantitive (1st) and Qualititive (2nd)\n",
    "\n",
    "- filter out companies that look healthy based on financial statements and ratios \n",
    "\n",
    "- filter them out based on trends, competition, scalability and so on."
   ]
  },
  {
   "cell_type": "code",
   "execution_count": null,
   "metadata": {},
   "outputs": [],
   "source": []
  }
 ],
 "metadata": {
  "kernelspec": {
   "display_name": "Python 3",
   "language": "python",
   "name": "python3"
  },
  "language_info": {
   "codemirror_mode": {
    "name": "ipython",
    "version": 3
   },
   "file_extension": ".py",
   "mimetype": "text/x-python",
   "name": "python",
   "nbconvert_exporter": "python",
   "pygments_lexer": "ipython3",
   "version": "3.7.6"
  }
 },
 "nbformat": 4,
 "nbformat_minor": 4
}
