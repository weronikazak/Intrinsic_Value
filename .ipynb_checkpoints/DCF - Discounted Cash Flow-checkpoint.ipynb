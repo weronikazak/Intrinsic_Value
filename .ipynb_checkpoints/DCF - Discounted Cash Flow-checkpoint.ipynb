{
 "cells": [
  {
   "cell_type": "code",
   "execution_count": 254,
   "metadata": {},
   "outputs": [],
   "source": [
    "import requests\n",
    "from bs4 import BeautifulSoup\n",
    "\n",
    "# URL = 'https://www.macrotrends.net/stocks/charts/DELL/dell/free-cash-flow'\n",
    "URL = \"https://www.macrotrends.net/stocks/charts/DIS/disney/free-cash-flow\"\n",
    "page = requests.get(URL)\n",
    "\n",
    "soup = BeautifulSoup(page.content, \"html.parser\")"
   ]
  },
  {
   "cell_type": "code",
   "execution_count": 255,
   "metadata": {},
   "outputs": [
    {
     "name": "stdout",
     "output_type": "stream",
     "text": [
      "2009      3566.0\n",
      "2010      4468.0\n",
      "2011      3435.0\n",
      "2012      4182.0\n",
      "2013      6656.0\n",
      "2014      6469.0\n",
      "2015      7120.0\n",
      "2016      8363.0\n",
      "2017      8720.0\n",
      "2018      9830.0\n"
     ]
    }
   ],
   "source": [
    "cashflows = {}\n",
    "\n",
    "tbody = soup.find(\"table\", \"historical_data_table\").find(\"tbody\")\n",
    "for tr in reversed(tbody.findAll(\"tr\")):\n",
    "    trs = tr.findAll(\"td\")\n",
    "    year = int(trs[0].text.split(\"-\")[0])\n",
    "    if year > 2018: continue # eliminate post-covid\n",
    "    price = float(trs[1].text.replace(\",\",\"\").strip())\n",
    "    print(year, \"    \", price)\n",
    "    cashflows[year] = price"
   ]
  },
  {
   "cell_type": "code",
   "execution_count": 256,
   "metadata": {},
   "outputs": [
    {
     "data": {
      "text/html": [
       "<div>\n",
       "<style scoped>\n",
       "    .dataframe tbody tr th:only-of-type {\n",
       "        vertical-align: middle;\n",
       "    }\n",
       "\n",
       "    .dataframe tbody tr th {\n",
       "        vertical-align: top;\n",
       "    }\n",
       "\n",
       "    .dataframe thead th {\n",
       "        text-align: right;\n",
       "    }\n",
       "</style>\n",
       "<table border=\"1\" class=\"dataframe\">\n",
       "  <thead>\n",
       "    <tr style=\"text-align: right;\">\n",
       "      <th></th>\n",
       "      <th>2009</th>\n",
       "      <th>2010</th>\n",
       "      <th>2011</th>\n",
       "      <th>2012</th>\n",
       "      <th>2013</th>\n",
       "      <th>2014</th>\n",
       "      <th>2015</th>\n",
       "      <th>2016</th>\n",
       "      <th>2017</th>\n",
       "      <th>2018</th>\n",
       "    </tr>\n",
       "  </thead>\n",
       "  <tbody>\n",
       "    <tr>\n",
       "      <th>0</th>\n",
       "      <td>3566.0</td>\n",
       "      <td>4468.0</td>\n",
       "      <td>3435.0</td>\n",
       "      <td>4182.0</td>\n",
       "      <td>6656.0</td>\n",
       "      <td>6469.0</td>\n",
       "      <td>7120.0</td>\n",
       "      <td>8363.0</td>\n",
       "      <td>8720.0</td>\n",
       "      <td>9830.0</td>\n",
       "    </tr>\n",
       "  </tbody>\n",
       "</table>\n",
       "</div>"
      ],
      "text/plain": [
       "     2009    2010    2011    2012    2013    2014    2015    2016    2017  \\\n",
       "0  3566.0  4468.0  3435.0  4182.0  6656.0  6469.0  7120.0  8363.0  8720.0   \n",
       "\n",
       "     2018  \n",
       "0  9830.0  "
      ]
     },
     "execution_count": 256,
     "metadata": {},
     "output_type": "execute_result"
    }
   ],
   "source": [
    "import pandas as pd\n",
    "\n",
    "df = pd.DataFrame([cashflows])\n",
    "df"
   ]
  },
  {
   "cell_type": "code",
   "execution_count": 257,
   "metadata": {},
   "outputs": [],
   "source": [
    "growth_rates = {}\n",
    "\n",
    "for year1, year2 in zip(df, df.iloc[:, 1:]):\n",
    "    price1 = df[year1].iloc[0]\n",
    "    price2 = df[year2].iloc[0]\n",
    "    growth_rate = (price2 - price1) / price1\n",
    "    growth_rates[year2] = growth_rate"
   ]
  },
  {
   "cell_type": "code",
   "execution_count": 258,
   "metadata": {},
   "outputs": [
    {
     "data": {
      "text/html": [
       "<div>\n",
       "<style scoped>\n",
       "    .dataframe tbody tr th:only-of-type {\n",
       "        vertical-align: middle;\n",
       "    }\n",
       "\n",
       "    .dataframe tbody tr th {\n",
       "        vertical-align: top;\n",
       "    }\n",
       "\n",
       "    .dataframe thead th {\n",
       "        text-align: right;\n",
       "    }\n",
       "</style>\n",
       "<table border=\"1\" class=\"dataframe\">\n",
       "  <thead>\n",
       "    <tr style=\"text-align: right;\">\n",
       "      <th></th>\n",
       "      <th>2009</th>\n",
       "      <th>2010</th>\n",
       "      <th>2011</th>\n",
       "      <th>2012</th>\n",
       "      <th>2013</th>\n",
       "      <th>2014</th>\n",
       "      <th>2015</th>\n",
       "      <th>2016</th>\n",
       "      <th>2017</th>\n",
       "      <th>2018</th>\n",
       "    </tr>\n",
       "  </thead>\n",
       "  <tbody>\n",
       "    <tr>\n",
       "      <th>0</th>\n",
       "      <td>3566.0</td>\n",
       "      <td>4468.000000</td>\n",
       "      <td>3435.0000</td>\n",
       "      <td>4182.000000</td>\n",
       "      <td>6656.000000</td>\n",
       "      <td>6469.000000</td>\n",
       "      <td>7120.000000</td>\n",
       "      <td>8363.000000</td>\n",
       "      <td>8720.000000</td>\n",
       "      <td>9830.000000</td>\n",
       "    </tr>\n",
       "    <tr>\n",
       "      <th>1</th>\n",
       "      <td>NaN</td>\n",
       "      <td>0.252944</td>\n",
       "      <td>-0.2312</td>\n",
       "      <td>0.217467</td>\n",
       "      <td>0.591583</td>\n",
       "      <td>-0.028095</td>\n",
       "      <td>0.100634</td>\n",
       "      <td>0.174579</td>\n",
       "      <td>0.042688</td>\n",
       "      <td>0.127294</td>\n",
       "    </tr>\n",
       "  </tbody>\n",
       "</table>\n",
       "</div>"
      ],
      "text/plain": [
       "     2009         2010       2011         2012         2013         2014  \\\n",
       "0  3566.0  4468.000000  3435.0000  4182.000000  6656.000000  6469.000000   \n",
       "1     NaN     0.252944    -0.2312     0.217467     0.591583    -0.028095   \n",
       "\n",
       "          2015         2016         2017         2018  \n",
       "0  7120.000000  8363.000000  8720.000000  9830.000000  \n",
       "1     0.100634     0.174579     0.042688     0.127294  "
      ]
     },
     "execution_count": 258,
     "metadata": {},
     "output_type": "execute_result"
    }
   ],
   "source": [
    "df = df.append(growth_rates, ignore_index=True)\n",
    "df"
   ]
  },
  {
   "cell_type": "code",
   "execution_count": 259,
   "metadata": {},
   "outputs": [
    {
     "data": {
      "text/plain": [
       "0.13865490639469857"
      ]
     },
     "execution_count": 259,
     "metadata": {},
     "output_type": "execute_result"
    }
   ],
   "source": [
    "import numpy as np\n",
    "\n",
    "avg_growth_rate = np.mean(list(growth_rates.values()))\n",
    "df.iloc[1].mean()"
   ]
  },
  {
   "cell_type": "code",
   "execution_count": 260,
   "metadata": {},
   "outputs": [
    {
     "data": {
      "text/plain": [
       "{2023: 9830,\n",
       " 2024: 11193,\n",
       " 2025: 12745,\n",
       " 2026: 14512,\n",
       " 2027: 16524,\n",
       " 2028: 18815,\n",
       " 2029: 21424,\n",
       " 2030: 24395}"
      ]
     },
     "execution_count": 260,
     "metadata": {},
     "output_type": "execute_result"
    }
   ],
   "source": [
    "future_cashflows = {}\n",
    "future_cashflows[2023] = round(df.iloc[:, -1].iloc[0])\n",
    "for year in range(2024, 2031):\n",
    "    future_cashflows[year] = round(future_cashflows[year-1] + (future_cashflows[year-1] * avg_growth_rate))\n",
    "\n",
    "future_cashflows"
   ]
  },
  {
   "cell_type": "code",
   "execution_count": 261,
   "metadata": {},
   "outputs": [
    {
     "data": {
      "text/html": [
       "<div>\n",
       "<style scoped>\n",
       "    .dataframe tbody tr th:only-of-type {\n",
       "        vertical-align: middle;\n",
       "    }\n",
       "\n",
       "    .dataframe tbody tr th {\n",
       "        vertical-align: top;\n",
       "    }\n",
       "\n",
       "    .dataframe thead th {\n",
       "        text-align: right;\n",
       "    }\n",
       "</style>\n",
       "<table border=\"1\" class=\"dataframe\">\n",
       "  <thead>\n",
       "    <tr style=\"text-align: right;\">\n",
       "      <th></th>\n",
       "      <th>2023</th>\n",
       "      <th>2024</th>\n",
       "      <th>2025</th>\n",
       "      <th>2026</th>\n",
       "      <th>2027</th>\n",
       "      <th>2028</th>\n",
       "      <th>2029</th>\n",
       "      <th>2030</th>\n",
       "    </tr>\n",
       "  </thead>\n",
       "  <tbody>\n",
       "    <tr>\n",
       "      <th>0</th>\n",
       "      <td>9830</td>\n",
       "      <td>11193</td>\n",
       "      <td>12745</td>\n",
       "      <td>14512</td>\n",
       "      <td>16524</td>\n",
       "      <td>18815</td>\n",
       "      <td>21424</td>\n",
       "      <td>24395</td>\n",
       "    </tr>\n",
       "  </tbody>\n",
       "</table>\n",
       "</div>"
      ],
      "text/plain": [
       "   2023   2024   2025   2026   2027   2028   2029   2030\n",
       "0  9830  11193  12745  14512  16524  18815  21424  24395"
      ]
     },
     "execution_count": 261,
     "metadata": {},
     "output_type": "execute_result"
    }
   ],
   "source": [
    "future_df = pd.DataFrame([future_cashflows])\n",
    "future_df"
   ]
  },
  {
   "cell_type": "code",
   "execution_count": 262,
   "metadata": {},
   "outputs": [],
   "source": [
    "# rate at which the company will grow in the future. Usually 2.5%-3% as economy moves in that pace\n",
    "perpetual_growth_rate = 0.025\n",
    "# how much cheaper we want it to get\n",
    "dicount_rate = 0.08"
   ]
  },
  {
   "cell_type": "code",
   "execution_count": 263,
   "metadata": {},
   "outputs": [],
   "source": [
    "price_2030 = future_df[2030].iloc[0]\n",
    "terminal_value = round(price_2030 * (1+perpetual_growth_rate) / (dicount_rate-perpetual_growth_rate))"
   ]
  },
  {
   "cell_type": "code",
   "execution_count": 264,
   "metadata": {},
   "outputs": [
    {
     "data": {
      "text/plain": [
       "454634"
      ]
     },
     "execution_count": 264,
     "metadata": {},
     "output_type": "execute_result"
    }
   ],
   "source": [
    "terminal_value"
   ]
  },
  {
   "cell_type": "code",
   "execution_count": 265,
   "metadata": {},
   "outputs": [
    {
     "data": {
      "text/html": [
       "<div>\n",
       "<style scoped>\n",
       "    .dataframe tbody tr th:only-of-type {\n",
       "        vertical-align: middle;\n",
       "    }\n",
       "\n",
       "    .dataframe tbody tr th {\n",
       "        vertical-align: top;\n",
       "    }\n",
       "\n",
       "    .dataframe thead th {\n",
       "        text-align: right;\n",
       "    }\n",
       "</style>\n",
       "<table border=\"1\" class=\"dataframe\">\n",
       "  <thead>\n",
       "    <tr style=\"text-align: right;\">\n",
       "      <th></th>\n",
       "      <th>2023</th>\n",
       "      <th>2024</th>\n",
       "      <th>2025</th>\n",
       "      <th>2026</th>\n",
       "      <th>2027</th>\n",
       "      <th>2028</th>\n",
       "      <th>2029</th>\n",
       "      <th>2030</th>\n",
       "      <th>Terminal</th>\n",
       "    </tr>\n",
       "  </thead>\n",
       "  <tbody>\n",
       "    <tr>\n",
       "      <th>0</th>\n",
       "      <td>9830</td>\n",
       "      <td>11193</td>\n",
       "      <td>12745</td>\n",
       "      <td>14512</td>\n",
       "      <td>16524</td>\n",
       "      <td>18815</td>\n",
       "      <td>21424</td>\n",
       "      <td>24395</td>\n",
       "      <td>454634</td>\n",
       "    </tr>\n",
       "  </tbody>\n",
       "</table>\n",
       "</div>"
      ],
      "text/plain": [
       "   2023   2024   2025   2026   2027   2028   2029   2030  Terminal\n",
       "0  9830  11193  12745  14512  16524  18815  21424  24395    454634"
      ]
     },
     "execution_count": 265,
     "metadata": {},
     "output_type": "execute_result"
    }
   ],
   "source": [
    "future_df[\"Terminal\"] = terminal_value\n",
    "future_df"
   ]
  },
  {
   "cell_type": "code",
   "execution_count": 266,
   "metadata": {},
   "outputs": [
    {
     "data": {
      "text/plain": [
       "{2023: 9102,\n",
       " 2024: 9596,\n",
       " 2025: 10117,\n",
       " 2026: 10667,\n",
       " 2027: 11246,\n",
       " 2028: 11857,\n",
       " 2029: 12501,\n",
       " 2030: 13180,\n",
       " 'Terminal': 227430}"
      ]
     },
     "execution_count": 266,
     "metadata": {},
     "output_type": "execute_result"
    }
   ],
   "source": [
    "PV_of_FFCFs = {}\n",
    "for (i, col) in enumerate(future_df):\n",
    "    PV_of_FFCFs[col] = round(future_df[col].iloc[0] / (1 + dicount_rate)**(i+1))\n",
    "PV_of_FFCFs"
   ]
  },
  {
   "cell_type": "code",
   "execution_count": 267,
   "metadata": {},
   "outputs": [
    {
     "data": {
      "text/html": [
       "<div>\n",
       "<style scoped>\n",
       "    .dataframe tbody tr th:only-of-type {\n",
       "        vertical-align: middle;\n",
       "    }\n",
       "\n",
       "    .dataframe tbody tr th {\n",
       "        vertical-align: top;\n",
       "    }\n",
       "\n",
       "    .dataframe thead th {\n",
       "        text-align: right;\n",
       "    }\n",
       "</style>\n",
       "<table border=\"1\" class=\"dataframe\">\n",
       "  <thead>\n",
       "    <tr style=\"text-align: right;\">\n",
       "      <th></th>\n",
       "      <th>2023</th>\n",
       "      <th>2024</th>\n",
       "      <th>2025</th>\n",
       "      <th>2026</th>\n",
       "      <th>2027</th>\n",
       "      <th>2028</th>\n",
       "      <th>2029</th>\n",
       "      <th>2030</th>\n",
       "      <th>Terminal</th>\n",
       "    </tr>\n",
       "  </thead>\n",
       "  <tbody>\n",
       "    <tr>\n",
       "      <th>0</th>\n",
       "      <td>9830</td>\n",
       "      <td>11193</td>\n",
       "      <td>12745</td>\n",
       "      <td>14512</td>\n",
       "      <td>16524</td>\n",
       "      <td>18815</td>\n",
       "      <td>21424</td>\n",
       "      <td>24395</td>\n",
       "      <td>454634</td>\n",
       "    </tr>\n",
       "    <tr>\n",
       "      <th>1</th>\n",
       "      <td>9102</td>\n",
       "      <td>9596</td>\n",
       "      <td>10117</td>\n",
       "      <td>10667</td>\n",
       "      <td>11246</td>\n",
       "      <td>11857</td>\n",
       "      <td>12501</td>\n",
       "      <td>13180</td>\n",
       "      <td>227430</td>\n",
       "    </tr>\n",
       "  </tbody>\n",
       "</table>\n",
       "</div>"
      ],
      "text/plain": [
       "   2023   2024   2025   2026   2027   2028   2029   2030  Terminal\n",
       "0  9830  11193  12745  14512  16524  18815  21424  24395    454634\n",
       "1  9102   9596  10117  10667  11246  11857  12501  13180    227430"
      ]
     },
     "execution_count": 267,
     "metadata": {},
     "output_type": "execute_result"
    }
   ],
   "source": [
    "future_df = future_df.append(PV_of_FFCFs, ignore_index=True)\n",
    "future_df"
   ]
  },
  {
   "cell_type": "code",
   "execution_count": 268,
   "metadata": {},
   "outputs": [
    {
     "data": {
      "text/plain": [
       "315696"
      ]
     },
     "execution_count": 268,
     "metadata": {},
     "output_type": "execute_result"
    }
   ],
   "source": [
    "sum_of_FCF = future_df.iloc[1].sum()\n",
    "sum_of_FCF"
   ]
  },
  {
   "cell_type": "code",
   "execution_count": 269,
   "metadata": {},
   "outputs": [
    {
     "data": {
      "text/plain": [
       "15959.0"
      ]
     },
     "execution_count": 269,
     "metadata": {},
     "output_type": "execute_result"
    }
   ],
   "source": [
    "URL = \"https://au.finance.yahoo.com/quote/DIS/balance-sheet?p=DIS\"\n",
    "page = requests.get(URL, headers={'User-Agent':'Mozilla/5.0 (Windows NT 10.0; Win64; x64; rv:61.0) Gecko/20100101 Firefox/61.0'})\n",
    "\n",
    "soup = BeautifulSoup(page.content, \"html.parser\")\n",
    "cash = soup.find(\"div\", {\"title\": \"Cash and cash equivalents\"})\n",
    "cash_and_eq = int(cash.next.next.next.next.span.text.replace(\",\", \"\"))/1000\n",
    "cash_and_eq"
   ]
  },
  {
   "cell_type": "code",
   "execution_count": 270,
   "metadata": {},
   "outputs": [],
   "source": [
    "def convert_to_B(val):\n",
    "    if (val[-1] == \"B\"):\n",
    "        val = val.replace(\"B\", \"\")\n",
    "        while (len(val.split(\".\")[-1]) < 3):\n",
    "            val += \"0\"\n",
    "        val = int(val.replace(\".\", \"\"))\n",
    "        return val\n",
    "    elif (val[-1] == \"M\"):\n",
    "        val = val.replace(\".\", \"\").replace(\"M\", \"\")\n",
    "        val = float(\"0.\" + val)\n",
    "        return val"
   ]
  },
  {
   "cell_type": "code",
   "execution_count": 271,
   "metadata": {},
   "outputs": [
    {
     "data": {
      "text/plain": [
       "52020"
      ]
     },
     "execution_count": 271,
     "metadata": {},
     "output_type": "execute_result"
    }
   ],
   "source": [
    "URL = \"https://uk.finance.yahoo.com/quote/DIS/key-statistics?p=DIS\"\n",
    "page = requests.get(URL, headers={'User-Agent':'Mozilla/5.0 (Windows NT 10.0; Win64; x64; rv:61.0) Gecko/20100101 Firefox/61.0'})\n",
    "\n",
    "soup = BeautifulSoup(page.content, \"html.parser\")\n",
    "total_debt = soup.findAll(\"table\", {\"class\": \"Bdcl(c)\"})[8].findAll(\"tr\")[2].findAll(\"td\")[1].text\n",
    "# while (len(total_debt.split(\".\")[-1]) < 3):\n",
    "#     total_debt += \"0\"\n",
    "# total_debt = int(total_debt.replace(\".\", \"\"))\n",
    "total_debt = convert_to_B(total_debt)\n",
    "total_debt"
   ]
  },
  {
   "cell_type": "code",
   "execution_count": 272,
   "metadata": {},
   "outputs": [
    {
     "data": {
      "text/plain": [
       "279635.0"
      ]
     },
     "execution_count": 272,
     "metadata": {},
     "output_type": "execute_result"
    }
   ],
   "source": [
    "equity_value = sum_of_FCF + cash_and_eq - total_debt\n",
    "equity_value"
   ]
  },
  {
   "cell_type": "code",
   "execution_count": 273,
   "metadata": {},
   "outputs": [
    {
     "data": {
      "text/plain": [
       "1820"
      ]
     },
     "execution_count": 273,
     "metadata": {},
     "output_type": "execute_result"
    }
   ],
   "source": [
    "shares_outstanding = soup.findAll(\"table\", {\"class\": \"Bdcl(c)\"})[2].findAll(\"tr\")[2].findAll(\"td\")[1].text\n",
    "shares_outstanding = convert_to_B(shares_outstanding)\n",
    "shares_outstanding"
   ]
  },
  {
   "cell_type": "code",
   "execution_count": 274,
   "metadata": {},
   "outputs": [
    {
     "data": {
      "text/plain": [
       "153.6456043956044"
      ]
     },
     "execution_count": 274,
     "metadata": {},
     "output_type": "execute_result"
    }
   ],
   "source": [
    "price_per_share = equity_value / shares_outstanding\n",
    "price_per_share"
   ]
  },
  {
   "cell_type": "code",
   "execution_count": null,
   "metadata": {},
   "outputs": [],
   "source": []
  }
 ],
 "metadata": {
  "kernelspec": {
   "display_name": "Python 3",
   "language": "python",
   "name": "python3"
  },
  "language_info": {
   "codemirror_mode": {
    "name": "ipython",
    "version": 3
   },
   "file_extension": ".py",
   "mimetype": "text/x-python",
   "name": "python",
   "nbconvert_exporter": "python",
   "pygments_lexer": "ipython3",
   "version": "3.7.6"
  }
 },
 "nbformat": 4,
 "nbformat_minor": 4
}
