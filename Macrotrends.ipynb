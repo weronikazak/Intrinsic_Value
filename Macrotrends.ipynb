{
 "cells": [
  {
   "cell_type": "markdown",
   "metadata": {},
   "source": [
    "## Price Book"
   ]
  },
  {
   "cell_type": "code",
   "execution_count": 28,
   "metadata": {},
   "outputs": [],
   "source": [
    "import requests\n",
    "from bs4 import BeautifulSoup\n",
    "\n",
    "URL = 'https://www.macrotrends.net/stocks/charts/TWTR/twitter/price-book'\n",
    "page = requests.get(URL)\n",
    "\n",
    "soup = BeautifulSoup(page.content, \"html.parser\")"
   ]
  },
  {
   "cell_type": "code",
   "execution_count": 34,
   "metadata": {},
   "outputs": [
    {
     "name": "stdout",
     "output_type": "stream",
     "text": [
      "2021      43.22\n",
      "2020      54.15\n",
      "2019      32.05\n",
      "2018      28.74\n",
      "2017      24.01\n",
      "2016      16.3\n",
      "2015      23.14\n",
      "2014      35.87\n",
      "2013      63.65\n"
     ]
    }
   ],
   "source": [
    "bvps = {}\n",
    "\n",
    "tbody = soup.find(id=\"style-1\").find(\"tbody\")\n",
    "for tr in tbody.findAll(\"tr\"):\n",
    "    trs = tr.findAll(\"td\")\n",
    "    if (\"12-31\" not in trs[0].text): continue\n",
    "    year = int(trs[0].text.split(\"-\")[0])\n",
    "    price = float(trs[1].text.strip())\n",
    "    print(year, \"    \", price)\n",
    "    bvps[year] = price"
   ]
  },
  {
   "cell_type": "code",
   "execution_count": 41,
   "metadata": {},
   "outputs": [
    {
     "data": {
      "text/plain": [
       "1.0004959093929044"
      ]
     },
     "execution_count": 41,
     "metadata": {},
     "output_type": "execute_result"
    }
   ],
   "source": [
    "diff = max(bvps.keys()) - min(bvps.keys())\n",
    "growth_rate = max(bvps.keys()) / min(bvps.keys())\n",
    "avg_growth_rate = growth_rate**(1/diff)\n",
    "avg_growth_rate"
   ]
  },
  {
   "cell_type": "markdown",
   "metadata": {},
   "source": [
    "## Earnings per Share"
   ]
  },
  {
   "cell_type": "code",
   "execution_count": 20,
   "metadata": {},
   "outputs": [],
   "source": [
    "URL = 'https://www.macrotrends.net/stocks/charts/TWTR/twitter/eps-earnings-per-share-diluted'\n",
    "page = requests.get(URL)\n",
    "\n",
    "soup = BeautifulSoup(page.content, \"html.parser\")"
   ]
  },
  {
   "cell_type": "code",
   "execution_count": 22,
   "metadata": {},
   "outputs": [
    {
     "name": "stdout",
     "output_type": "stream",
     "text": [
      "2021      $-0.28\n",
      "2020      $-1.44\n",
      "2019      $1.87\n",
      "2018      $1.56\n",
      "2017      $-0.15\n",
      "2016      $-0.65\n",
      "2015      $-0.79\n",
      "2014      $-0.96\n",
      "2013      $-3.41\n",
      "2012      $-0.68\n",
      "2011      $-1.60\n",
      "2010      $-0.89\n"
     ]
    }
   ],
   "source": [
    "tbody = soup.find(id=\"style-1\").find(\"tbody\")\n",
    "for tr in tbody.findAll(\"tr\"):\n",
    "    trs = tr.findAll(\"td\")\n",
    "#     if (\"12-31\" not in trs[0].text): continue\n",
    "    print(trs[0].text, \"    \", trs[1].text)"
   ]
  },
  {
   "cell_type": "code",
   "execution_count": null,
   "metadata": {},
   "outputs": [],
   "source": []
  }
 ],
 "metadata": {
  "kernelspec": {
   "display_name": "Python 3",
   "language": "python",
   "name": "python3"
  },
  "language_info": {
   "codemirror_mode": {
    "name": "ipython",
    "version": 3
   },
   "file_extension": ".py",
   "mimetype": "text/x-python",
   "name": "python",
   "nbconvert_exporter": "python",
   "pygments_lexer": "ipython3",
   "version": "3.7.6"
  }
 },
 "nbformat": 4,
 "nbformat_minor": 4
}
