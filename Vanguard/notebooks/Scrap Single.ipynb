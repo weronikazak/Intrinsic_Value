{
 "cells": [
  {
   "cell_type": "code",
   "execution_count": 21,
   "metadata": {},
   "outputs": [],
   "source": [
    "from selenium import webdriver\n",
    "from selenium.webdriver.common.keys import Keys\n",
    "from selenium.webdriver.common.by import By\n",
    "from selenium.webdriver.chrome.options import Options\n",
    "\n",
    "from selenium.webdriver.support.ui import WebDriverWait\n",
    "from selenium.webdriver.support import expected_conditions as EC\n",
    "\n",
    "import selenium.webdriver.support.ui as ui\n",
    "import time\n",
    "\n",
    "import ipywidgets as widgets\n",
    "from IPython.display import display, clear_output\n",
    "from datetime import datetime\n",
    "import os\n",
    "import shutil\n",
    "\n",
    "import pandas as pd\n",
    "\n",
    "today = str(datetime.now().date())\n",
    "download_folder = f'../files/{today}/'"
   ]
  },
  {
   "cell_type": "code",
   "execution_count": 22,
   "metadata": {},
   "outputs": [],
   "source": [
    "# Remove all obsolete folders\n",
    "def remove_folders():\n",
    "    for folder in os.listdir('../files'):\n",
    "        if today not in folder:\n",
    "            shutil.rmtree('../files/' + folder)\n",
    "\n",
    "# Check if data has been downloaded\n",
    "def check_if_downloaded(fund_name):\n",
    "    if not os.path.exists(download_folder):\n",
    "        remove_folders()\n",
    "        os.makedirs(download_folder)\n",
    "        \n",
    "    l = [x for x in os.listdir(download_folder) if fund_name in x]\n",
    "    \n",
    "    if len(l) > 0:\n",
    "        return True\n",
    "    else:\n",
    "        return False\n",
    "    \n",
    "# Load and return as a dataframe\n",
    "def load_fund_df(fund_name):        \n",
    "    l = [x for x in os.listdir(download_folder) if fund_name in x]\n",
    "    df = pd.read_excel(download_folder + '/' + l[0], skiprows = 8, error_bad_lines=False)\n",
    "    return df\n",
    "\n",
    "# Download or retrieve data and display\n",
    "def fund_download(change):\n",
    "    if change['type'] == 'change' and change['name'] == 'value':\n",
    "        new_fund = change['new']\n",
    "        link = funds_list[new_fund]\n",
    "    \n",
    "        if not check_if_downloaded(new_fund):\n",
    "            print('Downloading...')\n",
    "            scrap_fund(new_fund, link)\n",
    "\n",
    "        print('Plotting dataframe...')\n",
    "        df = load_fund_df(new_fund)\n",
    "        df = clean_df(df)\n",
    "        \n",
    "        with out:\n",
    "            clear_output()\n",
    "            display(df)\n",
    "    \n",
    "# Scrap and download fund\n",
    "def scrap_fund(fund_name, link):\n",
    "    CHROMEDRIVER_URL = \"c:\\chromedriver.exe\"\n",
    "    WINDOW_SIZE = \"1920,1080\"\n",
    "    DOWNLOAD_URL = f'C:\\\\Users\\\\Weronika\\\\Desktop\\\\Intrinsic_Value\\\\Vanguard\\\\files\\\\{today}\\\\'\n",
    "\n",
    "    while True:\n",
    "        chrome_options = Options()\n",
    "        chrome_options.add_argument(\"--headless\")\n",
    "        chrome_options.add_argument(\"--window-size=%s\" % WINDOW_SIZE)\n",
    "        chrome_options.add_experimental_option(\"prefs\", {\n",
    "                \"download.default_directory\": DOWNLOAD_URL,\n",
    "                \"download.prompt_for_download\": False,\n",
    "                \"download.directory_upgrade\": True,\n",
    "                \"safebrowsing_for_trusted_sources_enabled\": False,\n",
    "                \"safebrowsing.enabled\": False\n",
    "        })\n",
    "\n",
    "        driver = webdriver.Chrome(executable_path=CHROMEDRIVER_URL, options=chrome_options)\n",
    "        driver.implicitly_wait(15)\n",
    "        driver.get(link)\n",
    "        wait = ui.WebDriverWait(driver,15)\n",
    "\n",
    "        try:\n",
    "            driver.find_element(By.ID, \"onetrust-reject-all-handler\").click()\n",
    "            wait.until(lambda driver: driver.find_element(By.XPATH, \"//button[contains(text(), 'I agree')]\"))\n",
    "            driver.find_element(By.XPATH, \"//button[contains(text(), 'I agree')]\").click()\n",
    "            driver.implicitly_wait(10)\n",
    "        except Exception as e:\n",
    "            print(\"No cookies popup detected\")\n",
    "            print ('-------- RETRY --------')\n",
    "            continue\n",
    "\n",
    "        try:\n",
    "            wait.until(lambda driver: driver.find_element(By.XPATH, \"//span[contains(text(), 'Download') and contains(text(), 'prices')]\"))\n",
    "            driver.find_element(By.XPATH, \"//span[contains(text(), 'Download') and contains(text(), 'prices')]\").click()\n",
    "        except Exception as e:\n",
    "            print('Runtime when trying to spot the download button')\n",
    "            print ('-------- RETRY --------')\n",
    "            continue\n",
    "\n",
    "        time.sleep(5)\n",
    "        driver.close()\n",
    "        print(f'Fund {fund_name} downloaded.')\n",
    "        return False\n",
    "    \n",
    "# Clean dataframe\n",
    "def clean_df(df):\n",
    "    df['Date'] = pd.to_datetime(df['Date'])\n",
    "    df[df.columns[1]] = df[df.columns[1]].str.replace('£', '')\n",
    "    df[df.columns[1]] = df[df.columns[1]].str.replace('CHF', '')\n",
    "    df[df.columns[1]] = df[df.columns[1]].str.replace('€', '')\n",
    "    df[df.columns[1]] = df[df.columns[1]].str.replace('$', '')\n",
    "    df[df.columns[1]] = df[df.columns[1]].str.replace('A', '')\n",
    "    df[df.columns[1]] = df[df.columns[1]].astype(float)\n",
    "    return df"
   ]
  },
  {
   "cell_type": "code",
   "execution_count": 23,
   "metadata": {},
   "outputs": [
    {
     "data": {
      "application/vnd.jupyter.widget-view+json": {
       "model_id": "c444cb988c224e529984cfa7e61c575f",
       "version_major": 2,
       "version_minor": 0
      },
      "text/plain": [
       "Dropdown(description='Index Fund:', options=('LifeStrategy® 20% Equity Fund', 'LifeStrategy® 40% Equity Fund',…"
      ]
     },
     "metadata": {},
     "output_type": "display_data"
    },
    {
     "name": "stdout",
     "output_type": "stream",
     "text": [
      "Downloading...\n",
      "Fund LifeStrategy® 60% Equity Fund downloaded.\n",
      "Plotting dataframe...\n"
     ]
    }
   ],
   "source": [
    "out = widgets.Output()\n",
    "\n",
    "funds_list = {}\n",
    "with open('../funds.txt', 'r') as file:\n",
    "    for line in file:\n",
    "        name, link = line.split('#')\n",
    "        funds_list[name] = link\n",
    "    \n",
    "        \n",
    "funds_dropdown = widgets.Dropdown(\n",
    "    options=list(funds_list.keys()),\n",
    "    value=list(funds_list.keys())[0],\n",
    "    description='Index Fund:',\n",
    "    disabled=False,\n",
    ")\n",
    "\n",
    "funds_dropdown.observe(fund_download)\n",
    "display(funds_dropdown)"
   ]
  },
  {
   "cell_type": "code",
   "execution_count": 24,
   "metadata": {},
   "outputs": [
    {
     "data": {
      "application/vnd.jupyter.widget-view+json": {
       "model_id": "15dac33271ec4cb19c3e8d057dc07a29",
       "version_major": 2,
       "version_minor": 0
      },
      "text/plain": [
       "Output(outputs=({'output_type': 'display_data', 'data': {'text/plain': '           Date  NAV (GBP)\\n0    2022-…"
      ]
     },
     "metadata": {},
     "output_type": "display_data"
    }
   ],
   "source": [
    "out"
   ]
  },
  {
   "cell_type": "code",
   "execution_count": null,
   "metadata": {},
   "outputs": [],
   "source": []
  }
 ],
 "metadata": {
  "kernelspec": {
   "display_name": "Python 3",
   "language": "python",
   "name": "python3"
  },
  "language_info": {
   "codemirror_mode": {
    "name": "ipython",
    "version": 3
   },
   "file_extension": ".py",
   "mimetype": "text/x-python",
   "name": "python",
   "nbconvert_exporter": "python",
   "pygments_lexer": "ipython3",
   "version": "3.7.6"
  }
 },
 "nbformat": 4,
 "nbformat_minor": 4
}
