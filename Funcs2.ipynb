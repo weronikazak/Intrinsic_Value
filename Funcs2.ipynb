{
 "cells": [
  {
   "cell_type": "code",
   "execution_count": 1,
   "metadata": {},
   "outputs": [],
   "source": [
    "import numpy as np\n",
    "import pandas as pd\n",
    "import os\n",
    "import yfinance as yf\n",
    "import datetime\n",
    "import requests\n",
    "from bs4 import BeautifulSoup as soup\n",
    "\n",
    "current_year = datetime.datetime.now().year\n",
    "current_month = datetime.datetime.now().month\n",
    "years_forward = 4\n"
   ]
  },
  {
   "cell_type": "code",
   "execution_count": 2,
   "metadata": {},
   "outputs": [],
   "source": [
    "def get_name(i):\n",
    "\tname = i[\"shortName\"]\n",
    "\treturn name\n",
    "\n",
    "\n",
    "def get_current_price(i):\n",
    "\tcurrent_price = i[\"currentPrice\"]\n",
    "\treturn current_price\n",
    "\n",
    "\n",
    "def get_chart(h):\n",
    "\tchart_dates = h.index\n",
    "\tchart_values = h[\"Close\"].values\n",
    "\n",
    "\treturn chart_dates, chart_values\n",
    "\n",
    "\n",
    "def get_details(tick):\n",
    "\ti = yf.Ticker(tick).info\n",
    "\n",
    "\tb = yf.Ticker(tick).balance_sheet\n",
    "\tb = b[b.columns[::-1]]\n",
    "\tb.columns = pd.DatetimeIndex(b.columns).year\n",
    "\n",
    "\tc = yf.Ticker(tick).cashflow\n",
    "\tc = c[c.columns[::-1]]\n",
    "\tc.columns = pd.DatetimeIndex(c.columns).year\n",
    "\n",
    "\tf = yf.Ticker(tick).financials\n",
    "\tf = f[f.columns[::-1]]\n",
    "\tf.columns = pd.DatetimeIndex(f.columns).year\n",
    "\n",
    "\ta = yf.Ticker(tick).analysis\n",
    "\n",
    "\th = yf.Ticker(tick).history(period=\"5y\")\n",
    "\n",
    "\treturn i, b, c, f, a, h"
   ]
  },
  {
   "cell_type": "code",
   "execution_count": 4,
   "metadata": {},
   "outputs": [],
   "source": [
    "tick = \"AAPL\"\n",
    "i, b, c, f, a, h = get_details(tick)\n",
    "name = get_name(i)\n",
    "current_price = get_current_price(i)"
   ]
  },
  {
   "cell_type": "code",
   "execution_count": 5,
   "metadata": {},
   "outputs": [],
   "source": [
    "def get_free_cashflow(c):\n",
    "\tCPO = c.loc[\"Total Cash From Operating Activities\"].to_frame().T\n",
    "\tCAPEX = c.loc[\"Capital Expenditures\"].to_frame().T\n",
    "\tFCF = (CPO.iloc[0] + CAPEX.iloc[0]).to_frame().T\n",
    "\tFCF.index = [\"Free Cashflow\"]\n",
    "\tFCF = CPO.append([CAPEX, FCF])\n",
    "\treturn FCF"
   ]
  },
  {
   "cell_type": "code",
   "execution_count": 6,
   "metadata": {},
   "outputs": [
    {
     "data": {
      "text/html": [
       "<div>\n",
       "<style scoped>\n",
       "    .dataframe tbody tr th:only-of-type {\n",
       "        vertical-align: middle;\n",
       "    }\n",
       "\n",
       "    .dataframe tbody tr th {\n",
       "        vertical-align: top;\n",
       "    }\n",
       "\n",
       "    .dataframe thead th {\n",
       "        text-align: right;\n",
       "    }\n",
       "</style>\n",
       "<table border=\"1\" class=\"dataframe\">\n",
       "  <thead>\n",
       "    <tr style=\"text-align: right;\">\n",
       "      <th></th>\n",
       "      <th>2018</th>\n",
       "      <th>2019</th>\n",
       "      <th>2020</th>\n",
       "      <th>2021</th>\n",
       "    </tr>\n",
       "  </thead>\n",
       "  <tbody>\n",
       "    <tr>\n",
       "      <th>Total Cash From Operating Activities</th>\n",
       "      <td>7.743400e+10</td>\n",
       "      <td>6.939100e+10</td>\n",
       "      <td>8.067400e+10</td>\n",
       "      <td>1.040380e+11</td>\n",
       "    </tr>\n",
       "    <tr>\n",
       "      <th>Capital Expenditures</th>\n",
       "      <td>-1.331300e+10</td>\n",
       "      <td>-1.049500e+10</td>\n",
       "      <td>-7.309000e+09</td>\n",
       "      <td>-1.108500e+10</td>\n",
       "    </tr>\n",
       "    <tr>\n",
       "      <th>Free Cashflow</th>\n",
       "      <td>6.412100e+10</td>\n",
       "      <td>5.889600e+10</td>\n",
       "      <td>7.336500e+10</td>\n",
       "      <td>9.295300e+10</td>\n",
       "    </tr>\n",
       "  </tbody>\n",
       "</table>\n",
       "</div>"
      ],
      "text/plain": [
       "                                              2018          2019  \\\n",
       "Total Cash From Operating Activities  7.743400e+10  6.939100e+10   \n",
       "Capital Expenditures                 -1.331300e+10 -1.049500e+10   \n",
       "Free Cashflow                         6.412100e+10  5.889600e+10   \n",
       "\n",
       "                                              2020          2021  \n",
       "Total Cash From Operating Activities  8.067400e+10  1.040380e+11  \n",
       "Capital Expenditures                 -7.309000e+09 -1.108500e+10  \n",
       "Free Cashflow                         7.336500e+10  9.295300e+10  "
      ]
     },
     "execution_count": 6,
     "metadata": {},
     "output_type": "execute_result"
    }
   ],
   "source": [
    "FCF = get_free_cashflow(c)\n",
    "FCF"
   ]
  },
  {
   "cell_type": "code",
   "execution_count": 7,
   "metadata": {},
   "outputs": [],
   "source": [
    "\n",
    "def get_net_income(c, FCF):\n",
    "\tnet_income = c.loc[\"Net Income\"].to_frame().T\n",
    "\tnet_income.loc[\"Free Cash Flow to Equity\"] = FCF.loc[\"Free Cashflow\"]\n",
    "\tnet_income.loc[\"FCFE/Net Income\"] = (FCF.loc[\"Free Cashflow\"] / net_income.loc[\"Net Income\"])\n",
    "\tnet_income.loc[\"FCFE/Net Income\"] = net_income.loc[\"FCFE/Net Income\"].round(2) * 100\n",
    "\t\n",
    "\tmedian_FFCE = net_income.loc[\"FCFE/Net Income\"].median()\n",
    "\t\n",
    "\treturn median_FFCE, net_income"
   ]
  },
  {
   "cell_type": "code",
   "execution_count": 9,
   "metadata": {},
   "outputs": [
    {
     "data": {
      "text/plain": [
       "107.5"
      ]
     },
     "execution_count": 9,
     "metadata": {},
     "output_type": "execute_result"
    }
   ],
   "source": [
    "median_FFCE, net_income = get_net_income(c, FCF)\n",
    "median_FFCE"
   ]
  },
  {
   "cell_type": "code",
   "execution_count": 10,
   "metadata": {},
   "outputs": [
    {
     "data": {
      "text/html": [
       "<div>\n",
       "<style scoped>\n",
       "    .dataframe tbody tr th:only-of-type {\n",
       "        vertical-align: middle;\n",
       "    }\n",
       "\n",
       "    .dataframe tbody tr th {\n",
       "        vertical-align: top;\n",
       "    }\n",
       "\n",
       "    .dataframe thead th {\n",
       "        text-align: right;\n",
       "    }\n",
       "</style>\n",
       "<table border=\"1\" class=\"dataframe\">\n",
       "  <thead>\n",
       "    <tr style=\"text-align: right;\">\n",
       "      <th></th>\n",
       "      <th>2018</th>\n",
       "      <th>2019</th>\n",
       "      <th>2020</th>\n",
       "      <th>2021</th>\n",
       "    </tr>\n",
       "  </thead>\n",
       "  <tbody>\n",
       "    <tr>\n",
       "      <th>Net Income</th>\n",
       "      <td>5.953100e+10</td>\n",
       "      <td>5.525600e+10</td>\n",
       "      <td>5.741100e+10</td>\n",
       "      <td>9.468000e+10</td>\n",
       "    </tr>\n",
       "    <tr>\n",
       "      <th>Free Cash Flow to Equity</th>\n",
       "      <td>6.412100e+10</td>\n",
       "      <td>5.889600e+10</td>\n",
       "      <td>7.336500e+10</td>\n",
       "      <td>9.295300e+10</td>\n",
       "    </tr>\n",
       "    <tr>\n",
       "      <th>FCFE/Net Income</th>\n",
       "      <td>1.080000e+02</td>\n",
       "      <td>1.070000e+02</td>\n",
       "      <td>1.280000e+02</td>\n",
       "      <td>9.800000e+01</td>\n",
       "    </tr>\n",
       "  </tbody>\n",
       "</table>\n",
       "</div>"
      ],
      "text/plain": [
       "                                  2018          2019          2020  \\\n",
       "Net Income                5.953100e+10  5.525600e+10  5.741100e+10   \n",
       "Free Cash Flow to Equity  6.412100e+10  5.889600e+10  7.336500e+10   \n",
       "FCFE/Net Income           1.080000e+02  1.070000e+02  1.280000e+02   \n",
       "\n",
       "                                  2021  \n",
       "Net Income                9.468000e+10  \n",
       "Free Cash Flow to Equity  9.295300e+10  \n",
       "FCFE/Net Income           9.800000e+01  "
      ]
     },
     "execution_count": 10,
     "metadata": {},
     "output_type": "execute_result"
    }
   ],
   "source": [
    "net_income"
   ]
  },
  {
   "cell_type": "code",
   "execution_count": 11,
   "metadata": {},
   "outputs": [],
   "source": [
    "def get_total_revenue(f, a):\n",
    "\ttotal_revenue = f.loc[\"Total Revenue\"].to_frame().T\n",
    "\ttotal_revenue[current_year] = a[\"Revenue Estimate Low\"].loc[\"0Y\"]\n",
    "\ttotal_revenue[current_year+1] = a[\"Revenue Estimate Low\"].loc[\"+1Y\"]\n",
    "\n",
    "\tgrowths = [np.nan]\n",
    "\tfor year1, year2 in zip(total_revenue, total_revenue.iloc[:, 1:]):\n",
    "\t\ty1 = total_revenue[year1].iloc[0]\n",
    "\t\ty2 = total_revenue[year2].iloc[0]\n",
    "\t\tgrowth = round((y2 - y1)/y1*100, 2)\n",
    "\t\tgrowths.append(growth)\n",
    "\n",
    "\ttotal_revenue.loc[\"Revenue Growth Rate\"] = growths\n",
    "\tmedian_growth = total_revenue.loc[\"Revenue Growth Rate\"].median()\n",
    "\n",
    "\treturn median_growth, total_revenue"
   ]
  },
  {
   "cell_type": "code",
   "execution_count": 12,
   "metadata": {},
   "outputs": [
    {
     "data": {
      "text/plain": [
       "5.51"
      ]
     },
     "execution_count": 12,
     "metadata": {},
     "output_type": "execute_result"
    }
   ],
   "source": [
    "median_growth, total_revenue = get_total_revenue(f, a)\n",
    "median_growth"
   ]
  },
  {
   "cell_type": "code",
   "execution_count": 13,
   "metadata": {},
   "outputs": [
    {
     "data": {
      "text/html": [
       "<div>\n",
       "<style scoped>\n",
       "    .dataframe tbody tr th:only-of-type {\n",
       "        vertical-align: middle;\n",
       "    }\n",
       "\n",
       "    .dataframe tbody tr th {\n",
       "        vertical-align: top;\n",
       "    }\n",
       "\n",
       "    .dataframe thead th {\n",
       "        text-align: right;\n",
       "    }\n",
       "</style>\n",
       "<table border=\"1\" class=\"dataframe\">\n",
       "  <thead>\n",
       "    <tr style=\"text-align: right;\">\n",
       "      <th></th>\n",
       "      <th>2018</th>\n",
       "      <th>2019</th>\n",
       "      <th>2020</th>\n",
       "      <th>2021</th>\n",
       "      <th>2022</th>\n",
       "      <th>2023</th>\n",
       "    </tr>\n",
       "  </thead>\n",
       "  <tbody>\n",
       "    <tr>\n",
       "      <th>Total Revenue</th>\n",
       "      <td>2.65595e+11</td>\n",
       "      <td>2.60174e+11</td>\n",
       "      <td>2.74515e+11</td>\n",
       "      <td>3.65817e+11</td>\n",
       "      <td>3.872000e+11</td>\n",
       "      <td>3.937660e+11</td>\n",
       "    </tr>\n",
       "    <tr>\n",
       "      <th>Revenue Growth Rate</th>\n",
       "      <td>NaN</td>\n",
       "      <td>-2.04</td>\n",
       "      <td>5.51</td>\n",
       "      <td>33.26</td>\n",
       "      <td>5.850000e+00</td>\n",
       "      <td>1.700000e+00</td>\n",
       "    </tr>\n",
       "  </tbody>\n",
       "</table>\n",
       "</div>"
      ],
      "text/plain": [
       "                            2018         2019         2020         2021  \\\n",
       "Total Revenue        2.65595e+11  2.60174e+11  2.74515e+11  3.65817e+11   \n",
       "Revenue Growth Rate          NaN        -2.04         5.51        33.26   \n",
       "\n",
       "                             2022          2023  \n",
       "Total Revenue        3.872000e+11  3.937660e+11  \n",
       "Revenue Growth Rate  5.850000e+00  1.700000e+00  "
      ]
     },
     "execution_count": 13,
     "metadata": {},
     "output_type": "execute_result"
    }
   ],
   "source": [
    "total_revenue"
   ]
  },
  {
   "cell_type": "code",
   "execution_count": 14,
   "metadata": {},
   "outputs": [],
   "source": [
    "def get_net_income_margins(total_revenue, net_income):\n",
    "\tnet_income_margins = pd.concat([total_revenue.loc[\"Total Revenue\"].to_frame().T, net_income.loc[\"Net Income\"].to_frame().T])\n",
    "\t\n",
    "\tnet_income = []\n",
    "\tfor year in net_income_margins.columns:\n",
    "\t\trevenue = net_income_margins[year].loc[\"Total Revenue\"]\n",
    "\t\tnetincome = net_income_margins[year].loc[\"Net Income\"]\n",
    "\t\tnet = round(netincome/revenue * 100, 2)\n",
    "\t\tnet_income.append(net)\n",
    "\tnet_income_margins.loc[\"Net Income Margins\"] = net_income\n",
    "\t\n",
    "\tfree_cashflow_rate_median = net_income_margins.loc[\"Net Income Margins\"].median()\n",
    "\n",
    "\treturn free_cashflow_rate_median, net_income_margins"
   ]
  },
  {
   "cell_type": "code",
   "execution_count": 15,
   "metadata": {},
   "outputs": [
    {
     "data": {
      "text/plain": [
       "21.825"
      ]
     },
     "execution_count": 15,
     "metadata": {},
     "output_type": "execute_result"
    }
   ],
   "source": [
    "free_cashflow_rate_median, net_income_margins = get_net_income_margins(total_revenue, net_income)\n",
    "free_cashflow_rate_median"
   ]
  },
  {
   "cell_type": "code",
   "execution_count": 16,
   "metadata": {},
   "outputs": [
    {
     "data": {
      "text/html": [
       "<div>\n",
       "<style scoped>\n",
       "    .dataframe tbody tr th:only-of-type {\n",
       "        vertical-align: middle;\n",
       "    }\n",
       "\n",
       "    .dataframe tbody tr th {\n",
       "        vertical-align: top;\n",
       "    }\n",
       "\n",
       "    .dataframe thead th {\n",
       "        text-align: right;\n",
       "    }\n",
       "</style>\n",
       "<table border=\"1\" class=\"dataframe\">\n",
       "  <thead>\n",
       "    <tr style=\"text-align: right;\">\n",
       "      <th></th>\n",
       "      <th>2018</th>\n",
       "      <th>2019</th>\n",
       "      <th>2020</th>\n",
       "      <th>2021</th>\n",
       "      <th>2022</th>\n",
       "      <th>2023</th>\n",
       "    </tr>\n",
       "  </thead>\n",
       "  <tbody>\n",
       "    <tr>\n",
       "      <th>Total Revenue</th>\n",
       "      <td>2.65595e+11</td>\n",
       "      <td>2.60174e+11</td>\n",
       "      <td>2.74515e+11</td>\n",
       "      <td>3.65817e+11</td>\n",
       "      <td>3.872e+11</td>\n",
       "      <td>3.93766e+11</td>\n",
       "    </tr>\n",
       "    <tr>\n",
       "      <th>Net Income</th>\n",
       "      <td>5.9531e+10</td>\n",
       "      <td>5.5256e+10</td>\n",
       "      <td>5.7411e+10</td>\n",
       "      <td>9.468e+10</td>\n",
       "      <td>NaN</td>\n",
       "      <td>NaN</td>\n",
       "    </tr>\n",
       "    <tr>\n",
       "      <th>Net Income Margins</th>\n",
       "      <td>22.41</td>\n",
       "      <td>21.24</td>\n",
       "      <td>20.91</td>\n",
       "      <td>25.88</td>\n",
       "      <td>NaN</td>\n",
       "      <td>NaN</td>\n",
       "    </tr>\n",
       "  </tbody>\n",
       "</table>\n",
       "</div>"
      ],
      "text/plain": [
       "                           2018         2019         2020         2021  \\\n",
       "Total Revenue       2.65595e+11  2.60174e+11  2.74515e+11  3.65817e+11   \n",
       "Net Income           5.9531e+10   5.5256e+10   5.7411e+10    9.468e+10   \n",
       "Net Income Margins        22.41        21.24        20.91        25.88   \n",
       "\n",
       "                         2022         2023  \n",
       "Total Revenue       3.872e+11  3.93766e+11  \n",
       "Net Income                NaN          NaN  \n",
       "Net Income Margins        NaN          NaN  "
      ]
     },
     "execution_count": 16,
     "metadata": {},
     "output_type": "execute_result"
    }
   ],
   "source": [
    "net_income_margins"
   ]
  },
  {
   "cell_type": "code",
   "execution_count": 17,
   "metadata": {},
   "outputs": [],
   "source": [
    "def get_income_statement_ahead(net_income_margins, median_growth, median_FFCE, FCF, free_cashflow_rate_median):\n",
    "\tincome_statement_numbers = net_income_margins.copy()\n",
    "\tincome_statement_numbers = net_income_margins.drop(index=\"Net Income Margins\", axis=0)\n",
    "\tincome_statement_numbers = income_statement_numbers.append(FCF.loc[\"Free Cashflow\"])\n",
    "\n",
    "\tfor y in range(current_year, current_year+years_forward):\n",
    "\t\trev = income_statement_numbers[y-1].loc[\"Total Revenue\"] * (1+ (median_growth/ 100))\n",
    "\t\tn = rev * free_cashflow_rate_median / 100\n",
    "\t\tfcf = n * median_FFCE / 100\n",
    "\t\tincome_statement_numbers[y] = [rev, n, fcf]\n",
    "\t\t\n",
    "\treturn income_statement_numbers"
   ]
  },
  {
   "cell_type": "code",
   "execution_count": 18,
   "metadata": {},
   "outputs": [
    {
     "data": {
      "text/html": [
       "<div>\n",
       "<style scoped>\n",
       "    .dataframe tbody tr th:only-of-type {\n",
       "        vertical-align: middle;\n",
       "    }\n",
       "\n",
       "    .dataframe tbody tr th {\n",
       "        vertical-align: top;\n",
       "    }\n",
       "\n",
       "    .dataframe thead th {\n",
       "        text-align: right;\n",
       "    }\n",
       "</style>\n",
       "<table border=\"1\" class=\"dataframe\">\n",
       "  <thead>\n",
       "    <tr style=\"text-align: right;\">\n",
       "      <th></th>\n",
       "      <th>2018</th>\n",
       "      <th>2019</th>\n",
       "      <th>2020</th>\n",
       "      <th>2021</th>\n",
       "      <th>2022</th>\n",
       "      <th>2023</th>\n",
       "      <th>2024</th>\n",
       "      <th>2025</th>\n",
       "    </tr>\n",
       "  </thead>\n",
       "  <tbody>\n",
       "    <tr>\n",
       "      <th>Total Revenue</th>\n",
       "      <td>2.65595e+11</td>\n",
       "      <td>2.60174e+11</td>\n",
       "      <td>2.74515e+11</td>\n",
       "      <td>3.65817e+11</td>\n",
       "      <td>3.859735e+11</td>\n",
       "      <td>4.072407e+11</td>\n",
       "      <td>4.296796e+11</td>\n",
       "      <td>4.533550e+11</td>\n",
       "    </tr>\n",
       "    <tr>\n",
       "      <th>Net Income</th>\n",
       "      <td>5.9531e+10</td>\n",
       "      <td>5.5256e+10</td>\n",
       "      <td>5.7411e+10</td>\n",
       "      <td>9.468e+10</td>\n",
       "      <td>8.423872e+10</td>\n",
       "      <td>8.888027e+10</td>\n",
       "      <td>9.377758e+10</td>\n",
       "      <td>9.894472e+10</td>\n",
       "    </tr>\n",
       "    <tr>\n",
       "      <th>Free Cashflow</th>\n",
       "      <td>6.4121e+10</td>\n",
       "      <td>5.8896e+10</td>\n",
       "      <td>7.3365e+10</td>\n",
       "      <td>9.2953e+10</td>\n",
       "      <td>9.055662e+10</td>\n",
       "      <td>9.554629e+10</td>\n",
       "      <td>1.008109e+11</td>\n",
       "      <td>1.063656e+11</td>\n",
       "    </tr>\n",
       "  </tbody>\n",
       "</table>\n",
       "</div>"
      ],
      "text/plain": [
       "                      2018         2019         2020         2021  \\\n",
       "Total Revenue  2.65595e+11  2.60174e+11  2.74515e+11  3.65817e+11   \n",
       "Net Income      5.9531e+10   5.5256e+10   5.7411e+10    9.468e+10   \n",
       "Free Cashflow   6.4121e+10   5.8896e+10   7.3365e+10   9.2953e+10   \n",
       "\n",
       "                       2022          2023          2024          2025  \n",
       "Total Revenue  3.859735e+11  4.072407e+11  4.296796e+11  4.533550e+11  \n",
       "Net Income     8.423872e+10  8.888027e+10  9.377758e+10  9.894472e+10  \n",
       "Free Cashflow  9.055662e+10  9.554629e+10  1.008109e+11  1.063656e+11  "
      ]
     },
     "execution_count": 18,
     "metadata": {},
     "output_type": "execute_result"
    }
   ],
   "source": [
    "income_statement_numbers = get_income_statement_ahead(net_income_margins, median_growth, median_FFCE, FCF, free_cashflow_rate_median)\n",
    "income_statement_numbers"
   ]
  },
  {
   "cell_type": "code",
   "execution_count": 20,
   "metadata": {},
   "outputs": [],
   "source": [
    "def scrap_Rf():\n",
    "\tif (os.path.isfile('./TNX.txt')):\n",
    "\t\twith open(\"./TNX.txt\", \"r\") as f:\n",
    "\t\t\tfile_date = f.readline().strip()\n",
    "\t\t\tRf = float(f.readline().strip())\n",
    "\t\t\tif file_date == f\"{current_month}/{current_year}\":\n",
    "\t\t\t\treturn Rf\n",
    "\n",
    "\tpage = requests.get(\"https://finance.yahoo.com/bonds\")\n",
    "\tcontent = soup(page.content, \"html.parser\")\n",
    "\tRf = float(content.find(\"fin-streamer\", {\"data-symbol\":\"^TNX\"}).text)\n",
    "\tif Rf:\n",
    "\t\twith open(\"./TNX.txt\", \"w\") as f:\n",
    "\t\t\tf.write(f\"{current_month}/{current_year}\\n{Rf}\")\n",
    "\telse: \n",
    "\t\tRf = 3\n",
    "\treturn Rf"
   ]
  },
  {
   "cell_type": "code",
   "execution_count": 25,
   "metadata": {},
   "outputs": [],
   "source": [
    "def get_WACC(f, b, i):\n",
    "\tt = f[current_year-1].loc[\"Income Tax Expense\"]/f[current_year-1].loc[\"Income Before Tax\"]\n",
    "\tt = round(t, 4)\n",
    "\n",
    "\trd = (round(abs(f[current_year-1].loc[\"Interest Expense\"])*100 / \n",
    "\t\t\t (b[current_year-1].loc[\"Short Long Term Debt\"]+b[current_year-1].loc[\"Long Term Debt\"]),2))\n",
    "\n",
    "\tRf = scrap_Rf()\n",
    "\n",
    "\tB = i[\"beta\"] if i[\"beta\"] else 0.8\n",
    "\n",
    "\tRm = 10\n",
    "\n",
    "\tprint(t, rd, Rf, B)\n",
    "\n",
    "\tRa = Rf + B*(Rm - Rf)\n",
    "\tre = Ra\n",
    "\n",
    "\ttotal = i[\"totalDebt\"] + i[\"marketCap\"]\n",
    "\twd = i[\"totalDebt\"]*100/total\n",
    "\twe = i[\"marketCap\"]*100/total\n",
    "\n",
    "\tWACC = round((wd*rd*(1-t) + we*re)/100,2)\n",
    "\trequired_return = WACC\n",
    "\tr = required_return/100\n",
    "\n",
    "\treturn r"
   ]
  },
  {
   "cell_type": "code",
   "execution_count": 26,
   "metadata": {},
   "outputs": [
    {
     "name": "stdout",
     "output_type": "stream",
     "text": [
      "0.133 2.23 3.239 1.20009\n"
     ]
    },
    {
     "data": {
      "text/plain": [
       "0.1085"
      ]
     },
     "execution_count": 26,
     "metadata": {},
     "output_type": "execute_result"
    }
   ],
   "source": [
    "r = get_WACC(f, b, i)\n",
    "r"
   ]
  },
  {
   "cell_type": "code",
   "execution_count": 27,
   "metadata": {},
   "outputs": [],
   "source": [
    "\n",
    "def get_terminal_value(i, income_statement_numbers, r):\n",
    "\tperpetual_growth = 2.5\n",
    "\tg = perpetual_growth / 100\n",
    "\n",
    "\tFCFE0 = income_statement_numbers[current_year+years_forward-1].loc[\"Free Cashflow\"]\n",
    "\tterminal_value = (FCFE0*(1+g))/(r-g)\n",
    "\tterminal_value = round(terminal_value)\n",
    "\n",
    "\treturn terminal_value, g\n"
   ]
  },
  {
   "cell_type": "code",
   "execution_count": 28,
   "metadata": {},
   "outputs": [
    {
     "data": {
      "text/plain": [
       "1305685203424"
      ]
     },
     "execution_count": 28,
     "metadata": {},
     "output_type": "execute_result"
    }
   ],
   "source": [
    "terminal_value, g = get_terminal_value(i, income_statement_numbers, r)\n",
    "terminal_value"
   ]
  },
  {
   "cell_type": "code",
   "execution_count": 29,
   "metadata": {},
   "outputs": [],
   "source": [
    "\n",
    "def get_discount_factors(income_statement_numbers, r):\n",
    "\tcols_to_drop = list(filter(lambda x: x < current_year, income_statement_numbers.columns))\n",
    "\tdiscount_factors = income_statement_numbers.loc[\"Free Cashflow\"].to_frame().T.drop(cols_to_drop, axis=1)\n",
    "\n",
    "\tdiscount_facs = []\n",
    "\tdiscount_val = []\n",
    "\tfor (j, year) in enumerate(discount_factors.columns):\n",
    "\t\tdiscount = (1 + r)**(j+1)\n",
    "\t\tcashflow = discount_factors[year].loc[\"Free Cashflow\"]\n",
    "\t\tdiscount_facs.append(discount)\n",
    "\t\tdiscount_val.append(cashflow/discount)\n",
    "\t\t\n",
    "\tdiscount_factors.loc[\"Discount Factor\"] = discount_facs\n",
    "\tdiscount_factors.loc[\"PV of Future Cash Flow\"] = discount_val\n",
    "\treturn discount_factors"
   ]
  },
  {
   "cell_type": "code",
   "execution_count": 30,
   "metadata": {},
   "outputs": [
    {
     "data": {
      "text/html": [
       "<div>\n",
       "<style scoped>\n",
       "    .dataframe tbody tr th:only-of-type {\n",
       "        vertical-align: middle;\n",
       "    }\n",
       "\n",
       "    .dataframe tbody tr th {\n",
       "        vertical-align: top;\n",
       "    }\n",
       "\n",
       "    .dataframe thead th {\n",
       "        text-align: right;\n",
       "    }\n",
       "</style>\n",
       "<table border=\"1\" class=\"dataframe\">\n",
       "  <thead>\n",
       "    <tr style=\"text-align: right;\">\n",
       "      <th></th>\n",
       "      <th>2022</th>\n",
       "      <th>2023</th>\n",
       "      <th>2024</th>\n",
       "      <th>2025</th>\n",
       "    </tr>\n",
       "  </thead>\n",
       "  <tbody>\n",
       "    <tr>\n",
       "      <th>Free Cashflow</th>\n",
       "      <td>9.05566e+10</td>\n",
       "      <td>9.55463e+10</td>\n",
       "      <td>1.00811e+11</td>\n",
       "      <td>1.06366e+11</td>\n",
       "    </tr>\n",
       "    <tr>\n",
       "      <th>Discount Factor</th>\n",
       "      <td>1.1085</td>\n",
       "      <td>1.22877</td>\n",
       "      <td>1.36209</td>\n",
       "      <td>1.50988</td>\n",
       "    </tr>\n",
       "    <tr>\n",
       "      <th>PV of Future Cash Flow</th>\n",
       "      <td>8.16929e+10</td>\n",
       "      <td>7.77575e+10</td>\n",
       "      <td>7.40117e+10</td>\n",
       "      <td>7.04463e+10</td>\n",
       "    </tr>\n",
       "  </tbody>\n",
       "</table>\n",
       "</div>"
      ],
      "text/plain": [
       "                               2022         2023         2024         2025\n",
       "Free Cashflow           9.05566e+10  9.55463e+10  1.00811e+11  1.06366e+11\n",
       "Discount Factor              1.1085      1.22877      1.36209      1.50988\n",
       "PV of Future Cash Flow  8.16929e+10  7.77575e+10  7.40117e+10  7.04463e+10"
      ]
     },
     "execution_count": 30,
     "metadata": {},
     "output_type": "execute_result"
    }
   ],
   "source": [
    "discount_factors = get_discount_factors(income_statement_numbers, r)\n",
    "discount_factors"
   ]
  },
  {
   "cell_type": "code",
   "execution_count": 45,
   "metadata": {},
   "outputs": [],
   "source": [
    "def get_intrinsic_value(i, terminal_value, discount_facs, margin_of_safety = 0.2):\n",
    "\tshares_outstanding = i[\"sharesOutstanding\"]\n",
    "\tPV_of_terminal_value = round(terminal_value * discount_factors[current_year+years_forward-1].loc[\"Discount Factor\"])\n",
    "\ttodays_value = round(discount_factors.loc[\"PV of Future Cash Flow\"].sum() + PV_of_terminal_value)\n",
    "\t\n",
    "\tfair_value_of_equity = todays_value/shares_outstanding\n",
    "\tintrinsic_value = fair_value_of_equity*(1-margin_of_safety)\n",
    "\n",
    "\treturn intrinsic_value"
   ]
  },
  {
   "cell_type": "code",
   "execution_count": 46,
   "metadata": {},
   "outputs": [
    {
     "data": {
      "text/plain": [
       "112.46512312098753"
      ]
     },
     "execution_count": 46,
     "metadata": {},
     "output_type": "execute_result"
    }
   ],
   "source": [
    "intrinsic_value = get_intrinsic_value(i, terminal_value, discount_factors, margin_of_safety = 0.2)\n",
    "intrinsic_value"
   ]
  },
  {
   "cell_type": "code",
   "execution_count": null,
   "metadata": {},
   "outputs": [],
   "source": []
  }
 ],
 "metadata": {
  "kernelspec": {
   "display_name": "Python 3",
   "language": "python",
   "name": "python3"
  },
  "language_info": {
   "codemirror_mode": {
    "name": "ipython",
    "version": 3
   },
   "file_extension": ".py",
   "mimetype": "text/x-python",
   "name": "python",
   "nbconvert_exporter": "python",
   "pygments_lexer": "ipython3",
   "version": "3.7.6"
  }
 },
 "nbformat": 4,
 "nbformat_minor": 4
}
