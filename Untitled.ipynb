{
 "cells": [
  {
   "cell_type": "code",
   "execution_count": 1,
   "metadata": {},
   "outputs": [],
   "source": [
    "import numpy as np\n",
    "import pandas as pd\n",
    "import yfinance as yf\n",
    "import os\n",
    "import matplotlib.pyplot as plt"
   ]
  },
  {
   "cell_type": "code",
   "execution_count": 2,
   "metadata": {},
   "outputs": [],
   "source": [
    "a = yf.Ticker(\"AMZN\")"
   ]
  },
  {
   "cell_type": "code",
   "execution_count": 3,
   "metadata": {},
   "outputs": [],
   "source": [
    "his = a.history(period=\"5y\")"
   ]
  },
  {
   "cell_type": "code",
   "execution_count": 4,
   "metadata": {},
   "outputs": [
    {
     "data": {
      "text/html": [
       "<div>\n",
       "<style scoped>\n",
       "    .dataframe tbody tr th:only-of-type {\n",
       "        vertical-align: middle;\n",
       "    }\n",
       "\n",
       "    .dataframe tbody tr th {\n",
       "        vertical-align: top;\n",
       "    }\n",
       "\n",
       "    .dataframe thead th {\n",
       "        text-align: right;\n",
       "    }\n",
       "</style>\n",
       "<table border=\"1\" class=\"dataframe\">\n",
       "  <thead>\n",
       "    <tr style=\"text-align: right;\">\n",
       "      <th></th>\n",
       "      <th>Open</th>\n",
       "      <th>High</th>\n",
       "      <th>Low</th>\n",
       "      <th>Close</th>\n",
       "      <th>Volume</th>\n",
       "      <th>Dividends</th>\n",
       "      <th>Stock Splits</th>\n",
       "    </tr>\n",
       "    <tr>\n",
       "      <th>Date</th>\n",
       "      <th></th>\n",
       "      <th></th>\n",
       "      <th></th>\n",
       "      <th></th>\n",
       "      <th></th>\n",
       "      <th></th>\n",
       "      <th></th>\n",
       "    </tr>\n",
       "  </thead>\n",
       "  <tbody>\n",
       "    <tr>\n",
       "      <th>2017-06-05</th>\n",
       "      <td>1007.229980</td>\n",
       "      <td>1013.210022</td>\n",
       "      <td>1003.510010</td>\n",
       "      <td>1011.340027</td>\n",
       "      <td>2719900</td>\n",
       "      <td>0</td>\n",
       "      <td>0</td>\n",
       "    </tr>\n",
       "    <tr>\n",
       "      <th>2017-06-06</th>\n",
       "      <td>1012.000000</td>\n",
       "      <td>1016.500000</td>\n",
       "      <td>1001.250000</td>\n",
       "      <td>1003.000000</td>\n",
       "      <td>3346400</td>\n",
       "      <td>0</td>\n",
       "      <td>0</td>\n",
       "    </tr>\n",
       "    <tr>\n",
       "      <th>2017-06-07</th>\n",
       "      <td>1005.950012</td>\n",
       "      <td>1010.250000</td>\n",
       "      <td>1002.000000</td>\n",
       "      <td>1010.070007</td>\n",
       "      <td>2823000</td>\n",
       "      <td>0</td>\n",
       "      <td>0</td>\n",
       "    </tr>\n",
       "    <tr>\n",
       "      <th>2017-06-08</th>\n",
       "      <td>1012.059998</td>\n",
       "      <td>1013.609985</td>\n",
       "      <td>1006.109985</td>\n",
       "      <td>1010.270020</td>\n",
       "      <td>2767900</td>\n",
       "      <td>0</td>\n",
       "      <td>0</td>\n",
       "    </tr>\n",
       "    <tr>\n",
       "      <th>2017-06-09</th>\n",
       "      <td>1012.500000</td>\n",
       "      <td>1012.989990</td>\n",
       "      <td>927.000000</td>\n",
       "      <td>978.309998</td>\n",
       "      <td>7647700</td>\n",
       "      <td>0</td>\n",
       "      <td>0</td>\n",
       "    </tr>\n",
       "    <tr>\n",
       "      <th>...</th>\n",
       "      <td>...</td>\n",
       "      <td>...</td>\n",
       "      <td>...</td>\n",
       "      <td>...</td>\n",
       "      <td>...</td>\n",
       "      <td>...</td>\n",
       "      <td>...</td>\n",
       "    </tr>\n",
       "    <tr>\n",
       "      <th>2022-05-27</th>\n",
       "      <td>2271.000000</td>\n",
       "      <td>2303.739990</td>\n",
       "      <td>2252.560059</td>\n",
       "      <td>2302.929932</td>\n",
       "      <td>4683000</td>\n",
       "      <td>0</td>\n",
       "      <td>0</td>\n",
       "    </tr>\n",
       "    <tr>\n",
       "      <th>2022-05-31</th>\n",
       "      <td>2325.600098</td>\n",
       "      <td>2439.889893</td>\n",
       "      <td>2313.500000</td>\n",
       "      <td>2404.189941</td>\n",
       "      <td>7231700</td>\n",
       "      <td>0</td>\n",
       "      <td>0</td>\n",
       "    </tr>\n",
       "    <tr>\n",
       "      <th>2022-06-01</th>\n",
       "      <td>2445.120117</td>\n",
       "      <td>2503.580078</td>\n",
       "      <td>2412.449951</td>\n",
       "      <td>2433.679932</td>\n",
       "      <td>6376400</td>\n",
       "      <td>0</td>\n",
       "      <td>0</td>\n",
       "    </tr>\n",
       "    <tr>\n",
       "      <th>2022-06-02</th>\n",
       "      <td>2433.679932</td>\n",
       "      <td>2512.199951</td>\n",
       "      <td>2400.899902</td>\n",
       "      <td>2510.219971</td>\n",
       "      <td>5028000</td>\n",
       "      <td>0</td>\n",
       "      <td>0</td>\n",
       "    </tr>\n",
       "    <tr>\n",
       "      <th>2022-06-03</th>\n",
       "      <td>2484.000000</td>\n",
       "      <td>2488.000000</td>\n",
       "      <td>2420.929932</td>\n",
       "      <td>2447.000000</td>\n",
       "      <td>4863500</td>\n",
       "      <td>0</td>\n",
       "      <td>0</td>\n",
       "    </tr>\n",
       "  </tbody>\n",
       "</table>\n",
       "<p>1260 rows × 7 columns</p>\n",
       "</div>"
      ],
      "text/plain": [
       "                   Open         High          Low        Close   Volume  \\\n",
       "Date                                                                      \n",
       "2017-06-05  1007.229980  1013.210022  1003.510010  1011.340027  2719900   \n",
       "2017-06-06  1012.000000  1016.500000  1001.250000  1003.000000  3346400   \n",
       "2017-06-07  1005.950012  1010.250000  1002.000000  1010.070007  2823000   \n",
       "2017-06-08  1012.059998  1013.609985  1006.109985  1010.270020  2767900   \n",
       "2017-06-09  1012.500000  1012.989990   927.000000   978.309998  7647700   \n",
       "...                 ...          ...          ...          ...      ...   \n",
       "2022-05-27  2271.000000  2303.739990  2252.560059  2302.929932  4683000   \n",
       "2022-05-31  2325.600098  2439.889893  2313.500000  2404.189941  7231700   \n",
       "2022-06-01  2445.120117  2503.580078  2412.449951  2433.679932  6376400   \n",
       "2022-06-02  2433.679932  2512.199951  2400.899902  2510.219971  5028000   \n",
       "2022-06-03  2484.000000  2488.000000  2420.929932  2447.000000  4863500   \n",
       "\n",
       "            Dividends  Stock Splits  \n",
       "Date                                 \n",
       "2017-06-05          0             0  \n",
       "2017-06-06          0             0  \n",
       "2017-06-07          0             0  \n",
       "2017-06-08          0             0  \n",
       "2017-06-09          0             0  \n",
       "...               ...           ...  \n",
       "2022-05-27          0             0  \n",
       "2022-05-31          0             0  \n",
       "2022-06-01          0             0  \n",
       "2022-06-02          0             0  \n",
       "2022-06-03          0             0  \n",
       "\n",
       "[1260 rows x 7 columns]"
      ]
     },
     "execution_count": 4,
     "metadata": {},
     "output_type": "execute_result"
    }
   ],
   "source": [
    "his"
   ]
  },
  {
   "cell_type": "code",
   "execution_count": 5,
   "metadata": {},
   "outputs": [
    {
     "name": "stderr",
     "output_type": "stream",
     "text": [
      "No handles with labels found to put in legend.\n"
     ]
    },
    {
     "data": {
      "image/png": "[encoded data removed]",
      "text/plain": [
       "<Figure size 432x288 with 1 Axes>"
      ]
     },
     "metadata": {
      "needs_background": "light"
     },
     "output_type": "display_data"
    }
   ],
   "source": [
    "plt.plot( his.index, his['Close'])\n",
    "\n",
    "plt.legend()\n",
    "plt.show()"
   ]
  },
  {
   "cell_type": "code",
   "execution_count": 11,
   "metadata": {},
   "outputs": [
    {
     "data": {
      "text/plain": [
       "Date\n",
       "2017-06-05    1011.340027\n",
       "2017-06-06    1003.000000\n",
       "2017-06-07    1010.070007\n",
       "2017-06-08    1010.270020\n",
       "2017-06-09     978.309998\n",
       "                 ...     \n",
       "2022-05-27    2302.929932\n",
       "2022-05-31    2404.189941\n",
       "2022-06-01    2433.679932\n",
       "2022-06-02    2510.219971\n",
       "2022-06-03    2447.000000\n",
       "Name: Close, Length: 1260, dtype: float64"
      ]
     },
     "execution_count": 11,
     "metadata": {},
     "output_type": "execute_result"
    }
   ],
   "source": [
    "his['Close']"
   ]
  },
  {
   "cell_type": "code",
   "execution_count": null,
   "metadata": {},
   "outputs": [],
   "source": []
  }
 ],
 "metadata": {
  "kernelspec": {
   "display_name": "Python 3",
   "language": "python",
   "name": "python3"
  },
  "language_info": {
   "codemirror_mode": {
    "name": "ipython",
    "version": 3
   },
   "file_extension": ".py",
   "mimetype": "text/x-python",
   "name": "python",
   "nbconvert_exporter": "python",
   "pygments_lexer": "ipython3",
   "version": "3.7.6"
  }
 },
 "nbformat": 4,
 "nbformat_minor": 4
}
